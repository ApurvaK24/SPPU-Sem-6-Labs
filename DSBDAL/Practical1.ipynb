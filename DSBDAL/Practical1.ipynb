{
 "cells": [
  {
   "cell_type": "code",
   "execution_count": 1,
   "id": "e55b3b1d-fbed-4097-b368-6689af0b9fff",
   "metadata": {},
   "outputs": [],
   "source": [
    "import pandas as pd"
   ]
  },
  {
   "cell_type": "code",
   "execution_count": 2,
   "id": "495e78fa-3bcb-499a-badd-d30f74fae344",
   "metadata": {},
   "outputs": [],
   "source": [
    "df=pd.read_csv(\"student_performance_2.csv\")"
   ]
  },
  {
   "cell_type": "code",
   "execution_count": 3,
   "id": "fd6a13b5-496b-4c74-a304-b32a1de81016",
   "metadata": {},
   "outputs": [
    {
     "name": "stdout",
     "output_type": "stream",
     "text": [
      "Student ID             0\n",
      "Gender                 0\n",
      "Age                    0\n",
      "School                 0\n",
      "Math Score           358\n",
      "Reading Score        345\n",
      "Writing Score        337\n",
      "Class Performance      0\n",
      "dtype: int64\n"
     ]
    }
   ],
   "source": [
    "print(df.isnull().sum())"
   ]
  },
  {
   "cell_type": "code",
   "execution_count": 4,
   "id": "6ee6feb9-8911-4070-b6fc-ece042e22b17",
   "metadata": {},
   "outputs": [
    {
     "data": {
      "text/plain": [
       "(7000, 8)"
      ]
     },
     "execution_count": 4,
     "metadata": {},
     "output_type": "execute_result"
    }
   ],
   "source": [
    "df.shape"
   ]
  },
  {
   "cell_type": "code",
   "execution_count": 5,
   "id": "563d7c09-fa64-4ab5-a8fb-0c2f48467d58",
   "metadata": {},
   "outputs": [
    {
     "data": {
      "text/html": [
       "<div>\n",
       "<style scoped>\n",
       "    .dataframe tbody tr th:only-of-type {\n",
       "        vertical-align: middle;\n",
       "    }\n",
       "\n",
       "    .dataframe tbody tr th {\n",
       "        vertical-align: top;\n",
       "    }\n",
       "\n",
       "    .dataframe thead th {\n",
       "        text-align: right;\n",
       "    }\n",
       "</style>\n",
       "<table border=\"1\" class=\"dataframe\">\n",
       "  <thead>\n",
       "    <tr style=\"text-align: right;\">\n",
       "      <th></th>\n",
       "      <th>Student ID</th>\n",
       "      <th>Age</th>\n",
       "      <th>Math Score</th>\n",
       "      <th>Reading Score</th>\n",
       "      <th>Writing Score</th>\n",
       "    </tr>\n",
       "  </thead>\n",
       "  <tbody>\n",
       "    <tr>\n",
       "      <th>count</th>\n",
       "      <td>7000.000000</td>\n",
       "      <td>7000.000000</td>\n",
       "      <td>6642.000000</td>\n",
       "      <td>6655.000000</td>\n",
       "      <td>6663.000000</td>\n",
       "    </tr>\n",
       "    <tr>\n",
       "      <th>mean</th>\n",
       "      <td>3500.500000</td>\n",
       "      <td>19.006286</td>\n",
       "      <td>80.463264</td>\n",
       "      <td>80.598648</td>\n",
       "      <td>80.293862</td>\n",
       "    </tr>\n",
       "    <tr>\n",
       "      <th>std</th>\n",
       "      <td>2020.870275</td>\n",
       "      <td>1.411874</td>\n",
       "      <td>13.153499</td>\n",
       "      <td>12.973563</td>\n",
       "      <td>12.746946</td>\n",
       "    </tr>\n",
       "    <tr>\n",
       "      <th>min</th>\n",
       "      <td>1.000000</td>\n",
       "      <td>17.000000</td>\n",
       "      <td>60.000000</td>\n",
       "      <td>60.000000</td>\n",
       "      <td>60.000000</td>\n",
       "    </tr>\n",
       "    <tr>\n",
       "      <th>25%</th>\n",
       "      <td>1750.750000</td>\n",
       "      <td>18.000000</td>\n",
       "      <td>70.000000</td>\n",
       "      <td>70.000000</td>\n",
       "      <td>70.000000</td>\n",
       "    </tr>\n",
       "    <tr>\n",
       "      <th>50%</th>\n",
       "      <td>3500.500000</td>\n",
       "      <td>19.000000</td>\n",
       "      <td>80.000000</td>\n",
       "      <td>80.000000</td>\n",
       "      <td>80.000000</td>\n",
       "    </tr>\n",
       "    <tr>\n",
       "      <th>75%</th>\n",
       "      <td>5250.250000</td>\n",
       "      <td>20.000000</td>\n",
       "      <td>91.000000</td>\n",
       "      <td>91.000000</td>\n",
       "      <td>90.000000</td>\n",
       "    </tr>\n",
       "    <tr>\n",
       "      <th>max</th>\n",
       "      <td>7000.000000</td>\n",
       "      <td>21.000000</td>\n",
       "      <td>150.000000</td>\n",
       "      <td>150.000000</td>\n",
       "      <td>149.000000</td>\n",
       "    </tr>\n",
       "  </tbody>\n",
       "</table>\n",
       "</div>"
      ],
      "text/plain": [
       "        Student ID          Age   Math Score  Reading Score  Writing Score\n",
       "count  7000.000000  7000.000000  6642.000000    6655.000000    6663.000000\n",
       "mean   3500.500000    19.006286    80.463264      80.598648      80.293862\n",
       "std    2020.870275     1.411874    13.153499      12.973563      12.746946\n",
       "min       1.000000    17.000000    60.000000      60.000000      60.000000\n",
       "25%    1750.750000    18.000000    70.000000      70.000000      70.000000\n",
       "50%    3500.500000    19.000000    80.000000      80.000000      80.000000\n",
       "75%    5250.250000    20.000000    91.000000      91.000000      90.000000\n",
       "max    7000.000000    21.000000   150.000000     150.000000     149.000000"
      ]
     },
     "execution_count": 5,
     "metadata": {},
     "output_type": "execute_result"
    }
   ],
   "source": [
    "df.describe()"
   ]
  },
  {
   "cell_type": "code",
   "execution_count": 6,
   "id": "ebf276de-558a-4f04-a30e-c25e2d4210af",
   "metadata": {},
   "outputs": [
    {
     "data": {
      "text/plain": [
       "Student ID             int64\n",
       "Gender                object\n",
       "Age                    int64\n",
       "School                object\n",
       "Math Score           float64\n",
       "Reading Score        float64\n",
       "Writing Score        float64\n",
       "Class Performance     object\n",
       "dtype: object"
      ]
     },
     "execution_count": 6,
     "metadata": {},
     "output_type": "execute_result"
    }
   ],
   "source": [
    "df.dtypes"
   ]
  },
  {
   "cell_type": "code",
   "execution_count": 7,
   "id": "7aca7f76-dcc7-4847-a2c0-c5a7848e2d05",
   "metadata": {},
   "outputs": [
    {
     "name": "stdout",
     "output_type": "stream",
     "text": [
      "<class 'pandas.core.frame.DataFrame'>\n",
      "RangeIndex: 7000 entries, 0 to 6999\n",
      "Data columns (total 8 columns):\n",
      " #   Column             Non-Null Count  Dtype  \n",
      "---  ------             --------------  -----  \n",
      " 0   Student ID         7000 non-null   int64  \n",
      " 1   Gender             7000 non-null   object \n",
      " 2   Age                7000 non-null   int64  \n",
      " 3   School             7000 non-null   object \n",
      " 4   Math Score         6642 non-null   float64\n",
      " 5   Reading Score      6655 non-null   float64\n",
      " 6   Writing Score      6663 non-null   float64\n",
      " 7   Class Performance  7000 non-null   object \n",
      "dtypes: float64(3), int64(2), object(3)\n",
      "memory usage: 437.6+ KB\n"
     ]
    }
   ],
   "source": [
    "df.info()"
   ]
  },
  {
   "cell_type": "code",
   "execution_count": 8,
   "id": "4c17bcc2-4c04-491b-a6c6-5f147a5f0aff",
   "metadata": {},
   "outputs": [],
   "source": [
    "df['Age']=df['Age'].astype('float')"
   ]
  },
  {
   "cell_type": "code",
   "execution_count": 11,
   "id": "4de47b85-996c-4c8c-9a67-8303a7f102b6",
   "metadata": {},
   "outputs": [
    {
     "data": {
      "text/plain": [
       "Student ID             int64\n",
       "Gender                object\n",
       "Age                  float64\n",
       "School                object\n",
       "Math Score           float64\n",
       "Reading Score        float64\n",
       "Writing Score        float64\n",
       "Class Performance     object\n",
       "dtype: object"
      ]
     },
     "execution_count": 11,
     "metadata": {},
     "output_type": "execute_result"
    }
   ],
   "source": [
    "df.dtypes"
   ]
  },
  {
   "cell_type": "code",
   "execution_count": 12,
   "id": "db075b3c-206b-45fe-a08a-d26d42e97209",
   "metadata": {},
   "outputs": [
    {
     "data": {
      "text/html": [
       "<div>\n",
       "<style scoped>\n",
       "    .dataframe tbody tr th:only-of-type {\n",
       "        vertical-align: middle;\n",
       "    }\n",
       "\n",
       "    .dataframe tbody tr th {\n",
       "        vertical-align: top;\n",
       "    }\n",
       "\n",
       "    .dataframe thead th {\n",
       "        text-align: right;\n",
       "    }\n",
       "</style>\n",
       "<table border=\"1\" class=\"dataframe\">\n",
       "  <thead>\n",
       "    <tr style=\"text-align: right;\">\n",
       "      <th></th>\n",
       "      <th>Student ID</th>\n",
       "      <th>Age</th>\n",
       "      <th>Math Score</th>\n",
       "      <th>Reading Score</th>\n",
       "      <th>Writing Score</th>\n",
       "    </tr>\n",
       "  </thead>\n",
       "  <tbody>\n",
       "    <tr>\n",
       "      <th>count</th>\n",
       "      <td>7000.000000</td>\n",
       "      <td>7000.000000</td>\n",
       "      <td>6642.000000</td>\n",
       "      <td>6655.000000</td>\n",
       "      <td>6663.000000</td>\n",
       "    </tr>\n",
       "    <tr>\n",
       "      <th>mean</th>\n",
       "      <td>3500.500000</td>\n",
       "      <td>19.006286</td>\n",
       "      <td>80.463264</td>\n",
       "      <td>80.598648</td>\n",
       "      <td>80.293862</td>\n",
       "    </tr>\n",
       "    <tr>\n",
       "      <th>std</th>\n",
       "      <td>2020.870275</td>\n",
       "      <td>1.411874</td>\n",
       "      <td>13.153499</td>\n",
       "      <td>12.973563</td>\n",
       "      <td>12.746946</td>\n",
       "    </tr>\n",
       "    <tr>\n",
       "      <th>min</th>\n",
       "      <td>1.000000</td>\n",
       "      <td>17.000000</td>\n",
       "      <td>60.000000</td>\n",
       "      <td>60.000000</td>\n",
       "      <td>60.000000</td>\n",
       "    </tr>\n",
       "    <tr>\n",
       "      <th>25%</th>\n",
       "      <td>1750.750000</td>\n",
       "      <td>18.000000</td>\n",
       "      <td>70.000000</td>\n",
       "      <td>70.000000</td>\n",
       "      <td>70.000000</td>\n",
       "    </tr>\n",
       "    <tr>\n",
       "      <th>50%</th>\n",
       "      <td>3500.500000</td>\n",
       "      <td>19.000000</td>\n",
       "      <td>80.000000</td>\n",
       "      <td>80.000000</td>\n",
       "      <td>80.000000</td>\n",
       "    </tr>\n",
       "    <tr>\n",
       "      <th>75%</th>\n",
       "      <td>5250.250000</td>\n",
       "      <td>20.000000</td>\n",
       "      <td>91.000000</td>\n",
       "      <td>91.000000</td>\n",
       "      <td>90.000000</td>\n",
       "    </tr>\n",
       "    <tr>\n",
       "      <th>max</th>\n",
       "      <td>7000.000000</td>\n",
       "      <td>21.000000</td>\n",
       "      <td>150.000000</td>\n",
       "      <td>150.000000</td>\n",
       "      <td>149.000000</td>\n",
       "    </tr>\n",
       "  </tbody>\n",
       "</table>\n",
       "</div>"
      ],
      "text/plain": [
       "        Student ID          Age   Math Score  Reading Score  Writing Score\n",
       "count  7000.000000  7000.000000  6642.000000    6655.000000    6663.000000\n",
       "mean   3500.500000    19.006286    80.463264      80.598648      80.293862\n",
       "std    2020.870275     1.411874    13.153499      12.973563      12.746946\n",
       "min       1.000000    17.000000    60.000000      60.000000      60.000000\n",
       "25%    1750.750000    18.000000    70.000000      70.000000      70.000000\n",
       "50%    3500.500000    19.000000    80.000000      80.000000      80.000000\n",
       "75%    5250.250000    20.000000    91.000000      91.000000      90.000000\n",
       "max    7000.000000    21.000000   150.000000     150.000000     149.000000"
      ]
     },
     "execution_count": 12,
     "metadata": {},
     "output_type": "execute_result"
    }
   ],
   "source": [
    "df.describe()"
   ]
  },
  {
   "cell_type": "code",
   "execution_count": 13,
   "id": "a83fe2c4-fc06-4058-89d5-555991b867c8",
   "metadata": {},
   "outputs": [
    {
     "data": {
      "text/plain": [
       "Student ID           7000\n",
       "Gender               7000\n",
       "Age                  7000\n",
       "School               7000\n",
       "Math Score           6642\n",
       "Reading Score        6655\n",
       "Writing Score        6663\n",
       "Class Performance    7000\n",
       "dtype: int64"
      ]
     },
     "execution_count": 13,
     "metadata": {},
     "output_type": "execute_result"
    }
   ],
   "source": [
    "df.count()"
   ]
  },
  {
   "cell_type": "code",
   "execution_count": 15,
   "id": "02cf90be-fd3e-4009-b38a-e2be2de6f921",
   "metadata": {},
   "outputs": [
    {
     "data": {
      "text/plain": [
       "Age\n",
       "18.0    1455\n",
       "21.0    1425\n",
       "19.0    1397\n",
       "20.0    1365\n",
       "17.0    1358\n",
       "Name: count, dtype: int64"
      ]
     },
     "execution_count": 15,
     "metadata": {},
     "output_type": "execute_result"
    }
   ],
   "source": [
    "df['Age'].value_counts()"
   ]
  },
  {
   "cell_type": "code",
   "execution_count": 16,
   "id": "7620bc0f-db99-4ba9-81cb-bbbf280701d0",
   "metadata": {},
   "outputs": [
    {
     "name": "stdout",
     "output_type": "stream",
     "text": [
      "<class 'pandas.core.frame.DataFrame'>\n",
      "RangeIndex: 7000 entries, 0 to 6999\n",
      "Data columns (total 8 columns):\n",
      " #   Column             Non-Null Count  Dtype  \n",
      "---  ------             --------------  -----  \n",
      " 0   Student ID         7000 non-null   int64  \n",
      " 1   Gender             7000 non-null   object \n",
      " 2   Age                7000 non-null   float64\n",
      " 3   School             7000 non-null   object \n",
      " 4   Math Score         6642 non-null   float64\n",
      " 5   Reading Score      6655 non-null   float64\n",
      " 6   Writing Score      6663 non-null   float64\n",
      " 7   Class Performance  7000 non-null   object \n",
      "dtypes: float64(4), int64(1), object(3)\n",
      "memory usage: 437.6+ KB\n"
     ]
    }
   ],
   "source": [
    "df.info()"
   ]
  },
  {
   "cell_type": "code",
   "execution_count": 17,
   "id": "9c2cd05f-a9c2-4dff-88c7-9852f4ecb987",
   "metadata": {},
   "outputs": [],
   "source": [
    "# Function to normalize 'Age' column\n",
    "def min_max_normalize_age(df):\n",
    "    df['Age'] = (df['Age'] - df['Age'].min()) / (df['Age'].max() - df['Age'].min())"
   ]
  },
  {
   "cell_type": "code",
   "execution_count": 18,
   "id": "0d2ea02d-33c2-456d-b1f3-bcd27a7ed6a7",
   "metadata": {},
   "outputs": [],
   "source": [
    "# Function to convert 'Gender' column to numeric values\n",
    "def convert_gender_to_numeric(df):\n",
    "    df['Gender'] = df['Gender'].map({'Male': 0, 'Female': 1})\n"
   ]
  },
  {
   "cell_type": "code",
   "execution_count": 19,
   "id": "14787a56-5694-4ec9-9425-d0bcc405a58d",
   "metadata": {},
   "outputs": [
    {
     "data": {
      "text/html": [
       "<div>\n",
       "<style scoped>\n",
       "    .dataframe tbody tr th:only-of-type {\n",
       "        vertical-align: middle;\n",
       "    }\n",
       "\n",
       "    .dataframe tbody tr th {\n",
       "        vertical-align: top;\n",
       "    }\n",
       "\n",
       "    .dataframe thead th {\n",
       "        text-align: right;\n",
       "    }\n",
       "</style>\n",
       "<table border=\"1\" class=\"dataframe\">\n",
       "  <thead>\n",
       "    <tr style=\"text-align: right;\">\n",
       "      <th></th>\n",
       "      <th>Student ID</th>\n",
       "      <th>Age</th>\n",
       "      <th>Math Score</th>\n",
       "      <th>Reading Score</th>\n",
       "      <th>Writing Score</th>\n",
       "    </tr>\n",
       "  </thead>\n",
       "  <tbody>\n",
       "    <tr>\n",
       "      <th>count</th>\n",
       "      <td>7000.000000</td>\n",
       "      <td>7000.000000</td>\n",
       "      <td>6642.000000</td>\n",
       "      <td>6655.000000</td>\n",
       "      <td>6663.000000</td>\n",
       "    </tr>\n",
       "    <tr>\n",
       "      <th>mean</th>\n",
       "      <td>3500.500000</td>\n",
       "      <td>19.006286</td>\n",
       "      <td>80.463264</td>\n",
       "      <td>80.598648</td>\n",
       "      <td>80.293862</td>\n",
       "    </tr>\n",
       "    <tr>\n",
       "      <th>std</th>\n",
       "      <td>2020.870275</td>\n",
       "      <td>1.411874</td>\n",
       "      <td>13.153499</td>\n",
       "      <td>12.973563</td>\n",
       "      <td>12.746946</td>\n",
       "    </tr>\n",
       "    <tr>\n",
       "      <th>min</th>\n",
       "      <td>1.000000</td>\n",
       "      <td>17.000000</td>\n",
       "      <td>60.000000</td>\n",
       "      <td>60.000000</td>\n",
       "      <td>60.000000</td>\n",
       "    </tr>\n",
       "    <tr>\n",
       "      <th>25%</th>\n",
       "      <td>1750.750000</td>\n",
       "      <td>18.000000</td>\n",
       "      <td>70.000000</td>\n",
       "      <td>70.000000</td>\n",
       "      <td>70.000000</td>\n",
       "    </tr>\n",
       "    <tr>\n",
       "      <th>50%</th>\n",
       "      <td>3500.500000</td>\n",
       "      <td>19.000000</td>\n",
       "      <td>80.000000</td>\n",
       "      <td>80.000000</td>\n",
       "      <td>80.000000</td>\n",
       "    </tr>\n",
       "    <tr>\n",
       "      <th>75%</th>\n",
       "      <td>5250.250000</td>\n",
       "      <td>20.000000</td>\n",
       "      <td>91.000000</td>\n",
       "      <td>91.000000</td>\n",
       "      <td>90.000000</td>\n",
       "    </tr>\n",
       "    <tr>\n",
       "      <th>max</th>\n",
       "      <td>7000.000000</td>\n",
       "      <td>21.000000</td>\n",
       "      <td>150.000000</td>\n",
       "      <td>150.000000</td>\n",
       "      <td>149.000000</td>\n",
       "    </tr>\n",
       "  </tbody>\n",
       "</table>\n",
       "</div>"
      ],
      "text/plain": [
       "        Student ID          Age   Math Score  Reading Score  Writing Score\n",
       "count  7000.000000  7000.000000  6642.000000    6655.000000    6663.000000\n",
       "mean   3500.500000    19.006286    80.463264      80.598648      80.293862\n",
       "std    2020.870275     1.411874    13.153499      12.973563      12.746946\n",
       "min       1.000000    17.000000    60.000000      60.000000      60.000000\n",
       "25%    1750.750000    18.000000    70.000000      70.000000      70.000000\n",
       "50%    3500.500000    19.000000    80.000000      80.000000      80.000000\n",
       "75%    5250.250000    20.000000    91.000000      91.000000      90.000000\n",
       "max    7000.000000    21.000000   150.000000     150.000000     149.000000"
      ]
     },
     "execution_count": 19,
     "metadata": {},
     "output_type": "execute_result"
    }
   ],
   "source": [
    "df.describe()"
   ]
  },
  {
   "cell_type": "code",
   "execution_count": 20,
   "id": "07008d1b-f2fc-4f5a-a1ae-50dd2424e268",
   "metadata": {},
   "outputs": [
    {
     "data": {
      "text/html": [
       "<div>\n",
       "<style scoped>\n",
       "    .dataframe tbody tr th:only-of-type {\n",
       "        vertical-align: middle;\n",
       "    }\n",
       "\n",
       "    .dataframe tbody tr th {\n",
       "        vertical-align: top;\n",
       "    }\n",
       "\n",
       "    .dataframe thead th {\n",
       "        text-align: right;\n",
       "    }\n",
       "</style>\n",
       "<table border=\"1\" class=\"dataframe\">\n",
       "  <thead>\n",
       "    <tr style=\"text-align: right;\">\n",
       "      <th></th>\n",
       "      <th>Student ID</th>\n",
       "      <th>Gender</th>\n",
       "      <th>Age</th>\n",
       "      <th>School</th>\n",
       "      <th>Math Score</th>\n",
       "      <th>Reading Score</th>\n",
       "      <th>Writing Score</th>\n",
       "      <th>Class Performance</th>\n",
       "    </tr>\n",
       "  </thead>\n",
       "  <tbody>\n",
       "    <tr>\n",
       "      <th>0</th>\n",
       "      <td>1</td>\n",
       "      <td>Male</td>\n",
       "      <td>18.0</td>\n",
       "      <td>C</td>\n",
       "      <td>99.0</td>\n",
       "      <td>94.0</td>\n",
       "      <td>98.0</td>\n",
       "      <td>C</td>\n",
       "    </tr>\n",
       "    <tr>\n",
       "      <th>1</th>\n",
       "      <td>2</td>\n",
       "      <td>Male</td>\n",
       "      <td>17.0</td>\n",
       "      <td>D</td>\n",
       "      <td>78.0</td>\n",
       "      <td>61.0</td>\n",
       "      <td>98.0</td>\n",
       "      <td>B</td>\n",
       "    </tr>\n",
       "    <tr>\n",
       "      <th>2</th>\n",
       "      <td>3</td>\n",
       "      <td>Female</td>\n",
       "      <td>21.0</td>\n",
       "      <td>B</td>\n",
       "      <td>67.0</td>\n",
       "      <td>95.0</td>\n",
       "      <td>78.0</td>\n",
       "      <td>A</td>\n",
       "    </tr>\n",
       "    <tr>\n",
       "      <th>3</th>\n",
       "      <td>4</td>\n",
       "      <td>Female</td>\n",
       "      <td>20.0</td>\n",
       "      <td>E</td>\n",
       "      <td>67.0</td>\n",
       "      <td>67.0</td>\n",
       "      <td>86.0</td>\n",
       "      <td>C</td>\n",
       "    </tr>\n",
       "    <tr>\n",
       "      <th>4</th>\n",
       "      <td>5</td>\n",
       "      <td>Female</td>\n",
       "      <td>20.0</td>\n",
       "      <td>B</td>\n",
       "      <td>66.0</td>\n",
       "      <td>81.0</td>\n",
       "      <td>74.0</td>\n",
       "      <td>B</td>\n",
       "    </tr>\n",
       "    <tr>\n",
       "      <th>...</th>\n",
       "      <td>...</td>\n",
       "      <td>...</td>\n",
       "      <td>...</td>\n",
       "      <td>...</td>\n",
       "      <td>...</td>\n",
       "      <td>...</td>\n",
       "      <td>...</td>\n",
       "      <td>...</td>\n",
       "    </tr>\n",
       "    <tr>\n",
       "      <th>6995</th>\n",
       "      <td>6996</td>\n",
       "      <td>Female</td>\n",
       "      <td>17.0</td>\n",
       "      <td>C</td>\n",
       "      <td>69.0</td>\n",
       "      <td>72.0</td>\n",
       "      <td>80.0</td>\n",
       "      <td>C</td>\n",
       "    </tr>\n",
       "    <tr>\n",
       "      <th>6996</th>\n",
       "      <td>6997</td>\n",
       "      <td>Female</td>\n",
       "      <td>21.0</td>\n",
       "      <td>E</td>\n",
       "      <td>70.0</td>\n",
       "      <td>79.0</td>\n",
       "      <td>100.0</td>\n",
       "      <td>C</td>\n",
       "    </tr>\n",
       "    <tr>\n",
       "      <th>6997</th>\n",
       "      <td>6998</td>\n",
       "      <td>Male</td>\n",
       "      <td>21.0</td>\n",
       "      <td>C</td>\n",
       "      <td>80.0</td>\n",
       "      <td>79.0</td>\n",
       "      <td>78.0</td>\n",
       "      <td>B</td>\n",
       "    </tr>\n",
       "    <tr>\n",
       "      <th>6998</th>\n",
       "      <td>6999</td>\n",
       "      <td>Male</td>\n",
       "      <td>20.0</td>\n",
       "      <td>A</td>\n",
       "      <td>74.0</td>\n",
       "      <td>80.0</td>\n",
       "      <td>68.0</td>\n",
       "      <td>A</td>\n",
       "    </tr>\n",
       "    <tr>\n",
       "      <th>6999</th>\n",
       "      <td>7000</td>\n",
       "      <td>Male</td>\n",
       "      <td>18.0</td>\n",
       "      <td>D</td>\n",
       "      <td>60.0</td>\n",
       "      <td>100.0</td>\n",
       "      <td>81.0</td>\n",
       "      <td>A</td>\n",
       "    </tr>\n",
       "  </tbody>\n",
       "</table>\n",
       "<p>7000 rows × 8 columns</p>\n",
       "</div>"
      ],
      "text/plain": [
       "      Student ID  Gender   Age School  Math Score  Reading Score  \\\n",
       "0              1    Male  18.0      C        99.0           94.0   \n",
       "1              2    Male  17.0      D        78.0           61.0   \n",
       "2              3  Female  21.0      B        67.0           95.0   \n",
       "3              4  Female  20.0      E        67.0           67.0   \n",
       "4              5  Female  20.0      B        66.0           81.0   \n",
       "...          ...     ...   ...    ...         ...            ...   \n",
       "6995        6996  Female  17.0      C        69.0           72.0   \n",
       "6996        6997  Female  21.0      E        70.0           79.0   \n",
       "6997        6998    Male  21.0      C        80.0           79.0   \n",
       "6998        6999    Male  20.0      A        74.0           80.0   \n",
       "6999        7000    Male  18.0      D        60.0          100.0   \n",
       "\n",
       "      Writing Score Class Performance  \n",
       "0              98.0                 C  \n",
       "1              98.0                 B  \n",
       "2              78.0                 A  \n",
       "3              86.0                 C  \n",
       "4              74.0                 B  \n",
       "...             ...               ...  \n",
       "6995           80.0                 C  \n",
       "6996          100.0                 C  \n",
       "6997           78.0                 B  \n",
       "6998           68.0                 A  \n",
       "6999           81.0                 A  \n",
       "\n",
       "[7000 rows x 8 columns]"
      ]
     },
     "execution_count": 20,
     "metadata": {},
     "output_type": "execute_result"
    }
   ],
   "source": [
    "df"
   ]
  },
  {
   "cell_type": "code",
   "execution_count": 22,
   "id": "36e87c29-e15c-4d9d-b117-4d010a40fda7",
   "metadata": {},
   "outputs": [
    {
     "name": "stdout",
     "output_type": "stream",
     "text": [
      "[1 0]\n"
     ]
    }
   ],
   "source": [
    "from sklearn.preprocessing import LabelEncoder\n",
    "\n",
    "# Creating a LabelEncoder object\n",
    "label_encoder = LabelEncoder()\n",
    "\n",
    "# Encoding 'Gender' column\n",
    "df['Gender'] = label_encoder.fit_transform(df['Gender'])\n",
    "\n",
    "# Printing unique values after encoding\n",
    "print(df['Gender'].unique())"
   ]
  },
  {
   "cell_type": "code",
   "execution_count": null,
   "id": "9da6aa63-79c9-4256-811f-e41faaee2344",
   "metadata": {},
   "outputs": [],
   "source": []
  }
 ],
 "metadata": {
  "kernelspec": {
   "display_name": "Python 3 (ipykernel)",
   "language": "python",
   "name": "python3"
  },
  "language_info": {
   "codemirror_mode": {
    "name": "ipython",
    "version": 3
   },
   "file_extension": ".py",
   "mimetype": "text/x-python",
   "name": "python",
   "nbconvert_exporter": "python",
   "pygments_lexer": "ipython3",
   "version": "3.12.0"
  }
 },
 "nbformat": 4,
 "nbformat_minor": 5
}
