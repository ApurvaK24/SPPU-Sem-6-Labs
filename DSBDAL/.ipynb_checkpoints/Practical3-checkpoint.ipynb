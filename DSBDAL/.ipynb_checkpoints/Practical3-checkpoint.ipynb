{
 "cells": [
  {
   "cell_type": "code",
   "execution_count": 1,
   "id": "81834502-4b58-4b6e-bea1-c60f36a04a3a",
   "metadata": {},
   "outputs": [],
   "source": [
    "import pandas as pd\n",
    "import numpy as np\n",
    "import seaborn as sns\n",
    "import matplotlib.pyplot as plt"
   ]
  },
  {
   "cell_type": "code",
   "execution_count": 2,
   "id": "27c8fe7f-932a-4314-b321-49f8f10c6bed",
   "metadata": {},
   "outputs": [],
   "source": [
    "df=pd.read_csv(\"nba.csv\")"
   ]
  },
  {
   "cell_type": "code",
   "execution_count": 3,
   "id": "da529a4e-89e3-423a-bc2c-4422ea46aa8c",
   "metadata": {},
   "outputs": [
    {
     "data": {
      "text/html": [
       "<div>\n",
       "<style scoped>\n",
       "    .dataframe tbody tr th:only-of-type {\n",
       "        vertical-align: middle;\n",
       "    }\n",
       "\n",
       "    .dataframe tbody tr th {\n",
       "        vertical-align: top;\n",
       "    }\n",
       "\n",
       "    .dataframe thead th {\n",
       "        text-align: right;\n",
       "    }\n",
       "</style>\n",
       "<table border=\"1\" class=\"dataframe\">\n",
       "  <thead>\n",
       "    <tr style=\"text-align: right;\">\n",
       "      <th></th>\n",
       "      <th>Name</th>\n",
       "      <th>Team</th>\n",
       "      <th>Number</th>\n",
       "      <th>Position</th>\n",
       "      <th>Age</th>\n",
       "      <th>Height</th>\n",
       "      <th>Weight</th>\n",
       "      <th>College</th>\n",
       "      <th>Salary</th>\n",
       "    </tr>\n",
       "  </thead>\n",
       "  <tbody>\n",
       "    <tr>\n",
       "      <th>0</th>\n",
       "      <td>Avery Bradley</td>\n",
       "      <td>Boston Celtics</td>\n",
       "      <td>0.0</td>\n",
       "      <td>PG</td>\n",
       "      <td>25.0</td>\n",
       "      <td>6-2</td>\n",
       "      <td>180.0</td>\n",
       "      <td>Texas</td>\n",
       "      <td>7730337.0</td>\n",
       "    </tr>\n",
       "    <tr>\n",
       "      <th>1</th>\n",
       "      <td>Jae Crowder</td>\n",
       "      <td>Boston Celtics</td>\n",
       "      <td>99.0</td>\n",
       "      <td>SF</td>\n",
       "      <td>25.0</td>\n",
       "      <td>6-6</td>\n",
       "      <td>235.0</td>\n",
       "      <td>Marquette</td>\n",
       "      <td>6796117.0</td>\n",
       "    </tr>\n",
       "    <tr>\n",
       "      <th>2</th>\n",
       "      <td>John Holland</td>\n",
       "      <td>Boston Celtics</td>\n",
       "      <td>30.0</td>\n",
       "      <td>SG</td>\n",
       "      <td>27.0</td>\n",
       "      <td>6-5</td>\n",
       "      <td>205.0</td>\n",
       "      <td>Boston University</td>\n",
       "      <td>NaN</td>\n",
       "    </tr>\n",
       "    <tr>\n",
       "      <th>3</th>\n",
       "      <td>R.J. Hunter</td>\n",
       "      <td>Boston Celtics</td>\n",
       "      <td>28.0</td>\n",
       "      <td>SG</td>\n",
       "      <td>22.0</td>\n",
       "      <td>6-5</td>\n",
       "      <td>185.0</td>\n",
       "      <td>Georgia State</td>\n",
       "      <td>1148640.0</td>\n",
       "    </tr>\n",
       "    <tr>\n",
       "      <th>4</th>\n",
       "      <td>Jonas Jerebko</td>\n",
       "      <td>Boston Celtics</td>\n",
       "      <td>8.0</td>\n",
       "      <td>PF</td>\n",
       "      <td>29.0</td>\n",
       "      <td>6-10</td>\n",
       "      <td>231.0</td>\n",
       "      <td>NaN</td>\n",
       "      <td>5000000.0</td>\n",
       "    </tr>\n",
       "  </tbody>\n",
       "</table>\n",
       "</div>"
      ],
      "text/plain": [
       "            Name            Team  Number Position   Age Height  Weight  \\\n",
       "0  Avery Bradley  Boston Celtics     0.0       PG  25.0    6-2   180.0   \n",
       "1    Jae Crowder  Boston Celtics    99.0       SF  25.0    6-6   235.0   \n",
       "2   John Holland  Boston Celtics    30.0       SG  27.0    6-5   205.0   \n",
       "3    R.J. Hunter  Boston Celtics    28.0       SG  22.0    6-5   185.0   \n",
       "4  Jonas Jerebko  Boston Celtics     8.0       PF  29.0   6-10   231.0   \n",
       "\n",
       "             College     Salary  \n",
       "0              Texas  7730337.0  \n",
       "1          Marquette  6796117.0  \n",
       "2  Boston University        NaN  \n",
       "3      Georgia State  1148640.0  \n",
       "4                NaN  5000000.0  "
      ]
     },
     "execution_count": 3,
     "metadata": {},
     "output_type": "execute_result"
    }
   ],
   "source": [
    "df.head()"
   ]
  },
  {
   "cell_type": "code",
   "execution_count": 4,
   "id": "0670e684-6613-4ee5-8789-228aa22a9794",
   "metadata": {},
   "outputs": [
    {
     "data": {
      "text/plain": [
       "(458, 9)"
      ]
     },
     "execution_count": 4,
     "metadata": {},
     "output_type": "execute_result"
    }
   ],
   "source": [
    "df.shape"
   ]
  },
  {
   "cell_type": "code",
   "execution_count": 5,
   "id": "27f67953-59f4-4545-8f92-730bca665589",
   "metadata": {},
   "outputs": [
    {
     "data": {
      "text/plain": [
       "<bound method DataFrame.info of               Name            Team  Number Position   Age Height  Weight  \\\n",
       "0    Avery Bradley  Boston Celtics     0.0       PG  25.0    6-2   180.0   \n",
       "1      Jae Crowder  Boston Celtics    99.0       SF  25.0    6-6   235.0   \n",
       "2     John Holland  Boston Celtics    30.0       SG  27.0    6-5   205.0   \n",
       "3      R.J. Hunter  Boston Celtics    28.0       SG  22.0    6-5   185.0   \n",
       "4    Jonas Jerebko  Boston Celtics     8.0       PF  29.0   6-10   231.0   \n",
       "..             ...             ...     ...      ...   ...    ...     ...   \n",
       "453   Shelvin Mack       Utah Jazz     8.0       PG  26.0    6-3   203.0   \n",
       "454      Raul Neto       Utah Jazz    25.0       PG  24.0    6-1   179.0   \n",
       "455   Tibor Pleiss       Utah Jazz    21.0        C  26.0    7-3   256.0   \n",
       "456    Jeff Withey       Utah Jazz    24.0        C  26.0    7-0   231.0   \n",
       "457            NaN             NaN     NaN      NaN   NaN    NaN     NaN   \n",
       "\n",
       "               College     Salary  \n",
       "0                Texas  7730337.0  \n",
       "1            Marquette  6796117.0  \n",
       "2    Boston University        NaN  \n",
       "3        Georgia State  1148640.0  \n",
       "4                  NaN  5000000.0  \n",
       "..                 ...        ...  \n",
       "453             Butler  2433333.0  \n",
       "454                NaN   900000.0  \n",
       "455                NaN  2900000.0  \n",
       "456             Kansas   947276.0  \n",
       "457                NaN        NaN  \n",
       "\n",
       "[458 rows x 9 columns]>"
      ]
     },
     "execution_count": 5,
     "metadata": {},
     "output_type": "execute_result"
    }
   ],
   "source": [
    "df.info"
   ]
  },
  {
   "cell_type": "code",
   "execution_count": 6,
   "id": "5991d86b-e697-4aed-85ea-61043ae86fc1",
   "metadata": {},
   "outputs": [
    {
     "data": {
      "text/html": [
       "<div>\n",
       "<style scoped>\n",
       "    .dataframe tbody tr th:only-of-type {\n",
       "        vertical-align: middle;\n",
       "    }\n",
       "\n",
       "    .dataframe tbody tr th {\n",
       "        vertical-align: top;\n",
       "    }\n",
       "\n",
       "    .dataframe thead th {\n",
       "        text-align: right;\n",
       "    }\n",
       "</style>\n",
       "<table border=\"1\" class=\"dataframe\">\n",
       "  <thead>\n",
       "    <tr style=\"text-align: right;\">\n",
       "      <th></th>\n",
       "      <th>Number</th>\n",
       "      <th>Age</th>\n",
       "      <th>Weight</th>\n",
       "      <th>Salary</th>\n",
       "    </tr>\n",
       "  </thead>\n",
       "  <tbody>\n",
       "    <tr>\n",
       "      <th>count</th>\n",
       "      <td>457.000000</td>\n",
       "      <td>457.000000</td>\n",
       "      <td>457.000000</td>\n",
       "      <td>4.460000e+02</td>\n",
       "    </tr>\n",
       "    <tr>\n",
       "      <th>mean</th>\n",
       "      <td>17.678337</td>\n",
       "      <td>26.938731</td>\n",
       "      <td>221.522976</td>\n",
       "      <td>4.842684e+06</td>\n",
       "    </tr>\n",
       "    <tr>\n",
       "      <th>std</th>\n",
       "      <td>15.966090</td>\n",
       "      <td>4.404016</td>\n",
       "      <td>26.368343</td>\n",
       "      <td>5.229238e+06</td>\n",
       "    </tr>\n",
       "    <tr>\n",
       "      <th>min</th>\n",
       "      <td>0.000000</td>\n",
       "      <td>19.000000</td>\n",
       "      <td>161.000000</td>\n",
       "      <td>3.088800e+04</td>\n",
       "    </tr>\n",
       "    <tr>\n",
       "      <th>25%</th>\n",
       "      <td>5.000000</td>\n",
       "      <td>24.000000</td>\n",
       "      <td>200.000000</td>\n",
       "      <td>1.044792e+06</td>\n",
       "    </tr>\n",
       "    <tr>\n",
       "      <th>50%</th>\n",
       "      <td>13.000000</td>\n",
       "      <td>26.000000</td>\n",
       "      <td>220.000000</td>\n",
       "      <td>2.839073e+06</td>\n",
       "    </tr>\n",
       "    <tr>\n",
       "      <th>75%</th>\n",
       "      <td>25.000000</td>\n",
       "      <td>30.000000</td>\n",
       "      <td>240.000000</td>\n",
       "      <td>6.500000e+06</td>\n",
       "    </tr>\n",
       "    <tr>\n",
       "      <th>max</th>\n",
       "      <td>99.000000</td>\n",
       "      <td>40.000000</td>\n",
       "      <td>307.000000</td>\n",
       "      <td>2.500000e+07</td>\n",
       "    </tr>\n",
       "  </tbody>\n",
       "</table>\n",
       "</div>"
      ],
      "text/plain": [
       "           Number         Age      Weight        Salary\n",
       "count  457.000000  457.000000  457.000000  4.460000e+02\n",
       "mean    17.678337   26.938731  221.522976  4.842684e+06\n",
       "std     15.966090    4.404016   26.368343  5.229238e+06\n",
       "min      0.000000   19.000000  161.000000  3.088800e+04\n",
       "25%      5.000000   24.000000  200.000000  1.044792e+06\n",
       "50%     13.000000   26.000000  220.000000  2.839073e+06\n",
       "75%     25.000000   30.000000  240.000000  6.500000e+06\n",
       "max     99.000000   40.000000  307.000000  2.500000e+07"
      ]
     },
     "execution_count": 6,
     "metadata": {},
     "output_type": "execute_result"
    }
   ],
   "source": [
    "df.describe()"
   ]
  },
  {
   "cell_type": "code",
   "execution_count": 7,
   "id": "1084e1db-1692-4637-af5d-5d454ddaa730",
   "metadata": {},
   "outputs": [
    {
     "data": {
      "text/plain": [
       "Name         1\n",
       "Team         1\n",
       "Number       1\n",
       "Position     1\n",
       "Age          1\n",
       "Height       1\n",
       "Weight       1\n",
       "College     85\n",
       "Salary      12\n",
       "dtype: int64"
      ]
     },
     "execution_count": 7,
     "metadata": {},
     "output_type": "execute_result"
    }
   ],
   "source": [
    "df.isnull().sum()"
   ]
  },
  {
   "cell_type": "code",
   "execution_count": 8,
   "id": "1a79e873-28c0-478e-bea6-1f9053b1c071",
   "metadata": {},
   "outputs": [
    {
     "data": {
      "text/plain": [
       "Name         object\n",
       "Team         object\n",
       "Number      float64\n",
       "Position     object\n",
       "Age         float64\n",
       "Height       object\n",
       "Weight      float64\n",
       "College      object\n",
       "Salary      float64\n",
       "dtype: object"
      ]
     },
     "execution_count": 8,
     "metadata": {},
     "output_type": "execute_result"
    }
   ],
   "source": [
    "df.dtypes"
   ]
  },
  {
   "cell_type": "code",
   "execution_count": 14,
   "id": "d787a53b-2632-4269-a871-120712922fcb",
   "metadata": {},
   "outputs": [
    {
     "data": {
      "text/plain": [
       "<Axes: ylabel='Frequency'>"
      ]
     },
     "execution_count": 14,
     "metadata": {},
     "output_type": "execute_result"
    },
    {
     "data": {
      "image/png": "[encoded data removed]",
      "text/plain": [
       "<Figure size 640x480 with 1 Axes>"
      ]
     },
     "metadata": {},
     "output_type": "display_data"
    }
   ],
   "source": [
    "df['Salary'].plot(kind='hist')"
   ]
  },
  {
   "cell_type": "code",
   "execution_count": 15,
   "id": "cb570b63-1623-4999-88fe-56a84d74e228",
   "metadata": {},
   "outputs": [
    {
     "data": {
      "text/plain": [
       "0      7.730337e+06\n",
       "1      6.796117e+06\n",
       "2      4.842684e+06\n",
       "3      1.148640e+06\n",
       "4      5.000000e+06\n",
       "           ...     \n",
       "453    2.433333e+06\n",
       "454    9.000000e+05\n",
       "455    2.900000e+06\n",
       "456    9.472760e+05\n",
       "457    4.842684e+06\n",
       "Name: Salary, Length: 458, dtype: float64"
      ]
     },
     "execution_count": 15,
     "metadata": {},
     "output_type": "execute_result"
    }
   ],
   "source": [
    "df['Salary'].fillna(df['Salary'].mean())"
   ]
  },
  {
   "cell_type": "code",
   "execution_count": 16,
   "id": "050691ec-7089-47ea-8af9-841e8b8c3b62",
   "metadata": {},
   "outputs": [
    {
     "data": {
      "text/plain": [
       "<Axes: ylabel='Frequency'>"
      ]
     },
     "execution_count": 16,
     "metadata": {},
     "output_type": "execute_result"
    },
    {
     "data": {
      "image/png": "[encoded data removed]",
      "text/plain": [
       "<Figure size 640x480 with 1 Axes>"
      ]
     },
     "metadata": {},
     "output_type": "display_data"
    }
   ],
   "source": [
    "df['Age'].plot(kind='hist')"
   ]
  },
  {
   "cell_type": "code",
   "execution_count": 17,
   "id": "87921697-07db-4597-9dab-9501cc239e11",
   "metadata": {},
   "outputs": [
    {
     "data": {
      "text/plain": [
       "0      25.000000\n",
       "1      25.000000\n",
       "2      27.000000\n",
       "3      22.000000\n",
       "4      29.000000\n",
       "         ...    \n",
       "453    26.000000\n",
       "454    24.000000\n",
       "455    26.000000\n",
       "456    26.000000\n",
       "457    26.938731\n",
       "Name: Age, Length: 458, dtype: float64"
      ]
     },
     "execution_count": 17,
     "metadata": {},
     "output_type": "execute_result"
    }
   ],
   "source": [
    "df['Age'].fillna(df['Age'].mean())"
   ]
  },
  {
   "cell_type": "code",
   "execution_count": 18,
   "id": "4a2d28c6-5948-4736-b173-634085f435df",
   "metadata": {},
   "outputs": [],
   "source": [
    "gk=df.groupby('Age')"
   ]
  },
  {
   "cell_type": "code",
   "execution_count": 19,
   "id": "6f1bba01-26c2-4018-995d-bc2668d78590",
   "metadata": {},
   "outputs": [
    {
     "data": {
      "text/html": [
       "<div>\n",
       "<style scoped>\n",
       "    .dataframe tbody tr th:only-of-type {\n",
       "        vertical-align: middle;\n",
       "    }\n",
       "\n",
       "    .dataframe tbody tr th {\n",
       "        vertical-align: top;\n",
       "    }\n",
       "\n",
       "    .dataframe thead th {\n",
       "        text-align: right;\n",
       "    }\n",
       "</style>\n",
       "<table border=\"1\" class=\"dataframe\">\n",
       "  <thead>\n",
       "    <tr style=\"text-align: right;\">\n",
       "      <th></th>\n",
       "      <th>Name</th>\n",
       "      <th>Team</th>\n",
       "      <th>Number</th>\n",
       "      <th>Position</th>\n",
       "      <th>Height</th>\n",
       "      <th>Weight</th>\n",
       "      <th>College</th>\n",
       "      <th>Salary</th>\n",
       "    </tr>\n",
       "    <tr>\n",
       "      <th>Age</th>\n",
       "      <th></th>\n",
       "      <th></th>\n",
       "      <th></th>\n",
       "      <th></th>\n",
       "      <th></th>\n",
       "      <th></th>\n",
       "      <th></th>\n",
       "      <th></th>\n",
       "    </tr>\n",
       "  </thead>\n",
       "  <tbody>\n",
       "    <tr>\n",
       "      <th>19.0</th>\n",
       "      <td>Devin Booker</td>\n",
       "      <td>Phoenix Suns</td>\n",
       "      <td>1.0</td>\n",
       "      <td>SG</td>\n",
       "      <td>6-6</td>\n",
       "      <td>206.0</td>\n",
       "      <td>Kentucky</td>\n",
       "      <td>2127840.0</td>\n",
       "    </tr>\n",
       "    <tr>\n",
       "      <th>20.0</th>\n",
       "      <td>James Young</td>\n",
       "      <td>Boston Celtics</td>\n",
       "      <td>13.0</td>\n",
       "      <td>SG</td>\n",
       "      <td>6-6</td>\n",
       "      <td>215.0</td>\n",
       "      <td>Kentucky</td>\n",
       "      <td>1749840.0</td>\n",
       "    </tr>\n",
       "    <tr>\n",
       "      <th>21.0</th>\n",
       "      <td>Jordan Mickey</td>\n",
       "      <td>Boston Celtics</td>\n",
       "      <td>55.0</td>\n",
       "      <td>PF</td>\n",
       "      <td>6-8</td>\n",
       "      <td>235.0</td>\n",
       "      <td>LSU</td>\n",
       "      <td>1170960.0</td>\n",
       "    </tr>\n",
       "    <tr>\n",
       "      <th>22.0</th>\n",
       "      <td>R.J. Hunter</td>\n",
       "      <td>Boston Celtics</td>\n",
       "      <td>28.0</td>\n",
       "      <td>SG</td>\n",
       "      <td>6-5</td>\n",
       "      <td>185.0</td>\n",
       "      <td>Georgia State</td>\n",
       "      <td>1148640.0</td>\n",
       "    </tr>\n",
       "    <tr>\n",
       "      <th>23.0</th>\n",
       "      <td>Shane Larkin</td>\n",
       "      <td>Brooklyn Nets</td>\n",
       "      <td>0.0</td>\n",
       "      <td>PG</td>\n",
       "      <td>5-11</td>\n",
       "      <td>175.0</td>\n",
       "      <td>Miami (FL)</td>\n",
       "      <td>1500000.0</td>\n",
       "    </tr>\n",
       "    <tr>\n",
       "      <th>24.0</th>\n",
       "      <td>Jared Sullinger</td>\n",
       "      <td>Boston Celtics</td>\n",
       "      <td>7.0</td>\n",
       "      <td>C</td>\n",
       "      <td>6-9</td>\n",
       "      <td>260.0</td>\n",
       "      <td>Ohio State</td>\n",
       "      <td>2569260.0</td>\n",
       "    </tr>\n",
       "    <tr>\n",
       "      <th>25.0</th>\n",
       "      <td>Avery Bradley</td>\n",
       "      <td>Boston Celtics</td>\n",
       "      <td>0.0</td>\n",
       "      <td>PG</td>\n",
       "      <td>6-2</td>\n",
       "      <td>180.0</td>\n",
       "      <td>Texas</td>\n",
       "      <td>7730337.0</td>\n",
       "    </tr>\n",
       "    <tr>\n",
       "      <th>26.0</th>\n",
       "      <td>Tyler Zeller</td>\n",
       "      <td>Boston Celtics</td>\n",
       "      <td>44.0</td>\n",
       "      <td>C</td>\n",
       "      <td>7-0</td>\n",
       "      <td>253.0</td>\n",
       "      <td>North Carolina</td>\n",
       "      <td>2616975.0</td>\n",
       "    </tr>\n",
       "    <tr>\n",
       "      <th>27.0</th>\n",
       "      <td>John Holland</td>\n",
       "      <td>Boston Celtics</td>\n",
       "      <td>30.0</td>\n",
       "      <td>SG</td>\n",
       "      <td>6-5</td>\n",
       "      <td>205.0</td>\n",
       "      <td>Boston University</td>\n",
       "      <td>6912869.0</td>\n",
       "    </tr>\n",
       "    <tr>\n",
       "      <th>28.0</th>\n",
       "      <td>Wayne Ellington</td>\n",
       "      <td>Brooklyn Nets</td>\n",
       "      <td>21.0</td>\n",
       "      <td>SG</td>\n",
       "      <td>6-4</td>\n",
       "      <td>200.0</td>\n",
       "      <td>North Carolina</td>\n",
       "      <td>1500000.0</td>\n",
       "    </tr>\n",
       "    <tr>\n",
       "      <th>29.0</th>\n",
       "      <td>Jonas Jerebko</td>\n",
       "      <td>Boston Celtics</td>\n",
       "      <td>8.0</td>\n",
       "      <td>PF</td>\n",
       "      <td>6-10</td>\n",
       "      <td>231.0</td>\n",
       "      <td>Missouri</td>\n",
       "      <td>5000000.0</td>\n",
       "    </tr>\n",
       "    <tr>\n",
       "      <th>30.0</th>\n",
       "      <td>Arron Afflalo</td>\n",
       "      <td>New York Knicks</td>\n",
       "      <td>4.0</td>\n",
       "      <td>SG</td>\n",
       "      <td>6-5</td>\n",
       "      <td>210.0</td>\n",
       "      <td>UCLA</td>\n",
       "      <td>8000000.0</td>\n",
       "    </tr>\n",
       "    <tr>\n",
       "      <th>31.0</th>\n",
       "      <td>Andrew Bogut</td>\n",
       "      <td>Golden State Warriors</td>\n",
       "      <td>12.0</td>\n",
       "      <td>C</td>\n",
       "      <td>7-0</td>\n",
       "      <td>260.0</td>\n",
       "      <td>Utah</td>\n",
       "      <td>13800000.0</td>\n",
       "    </tr>\n",
       "    <tr>\n",
       "      <th>32.0</th>\n",
       "      <td>Jarrett Jack</td>\n",
       "      <td>Brooklyn Nets</td>\n",
       "      <td>2.0</td>\n",
       "      <td>PG</td>\n",
       "      <td>6-3</td>\n",
       "      <td>200.0</td>\n",
       "      <td>Georgia Tech</td>\n",
       "      <td>6300000.0</td>\n",
       "    </tr>\n",
       "    <tr>\n",
       "      <th>33.0</th>\n",
       "      <td>Lou Amundson</td>\n",
       "      <td>New York Knicks</td>\n",
       "      <td>17.0</td>\n",
       "      <td>PF</td>\n",
       "      <td>6-9</td>\n",
       "      <td>220.0</td>\n",
       "      <td>UNLV</td>\n",
       "      <td>1635476.0</td>\n",
       "    </tr>\n",
       "    <tr>\n",
       "      <th>34.0</th>\n",
       "      <td>Jose Calderon</td>\n",
       "      <td>New York Knicks</td>\n",
       "      <td>3.0</td>\n",
       "      <td>PG</td>\n",
       "      <td>6-3</td>\n",
       "      <td>200.0</td>\n",
       "      <td>Oklahoma State</td>\n",
       "      <td>7402812.0</td>\n",
       "    </tr>\n",
       "    <tr>\n",
       "      <th>35.0</th>\n",
       "      <td>Mike Dunleavy</td>\n",
       "      <td>Chicago Bulls</td>\n",
       "      <td>34.0</td>\n",
       "      <td>SG</td>\n",
       "      <td>6-9</td>\n",
       "      <td>230.0</td>\n",
       "      <td>Duke</td>\n",
       "      <td>4500000.0</td>\n",
       "    </tr>\n",
       "    <tr>\n",
       "      <th>36.0</th>\n",
       "      <td>Luis Scola</td>\n",
       "      <td>Toronto Raptors</td>\n",
       "      <td>4.0</td>\n",
       "      <td>PF</td>\n",
       "      <td>6-9</td>\n",
       "      <td>240.0</td>\n",
       "      <td>Michigan</td>\n",
       "      <td>2900000.0</td>\n",
       "    </tr>\n",
       "    <tr>\n",
       "      <th>37.0</th>\n",
       "      <td>Elton Brand</td>\n",
       "      <td>Philadelphia 76ers</td>\n",
       "      <td>42.0</td>\n",
       "      <td>PF</td>\n",
       "      <td>6-9</td>\n",
       "      <td>254.0</td>\n",
       "      <td>Duke</td>\n",
       "      <td>25000000.0</td>\n",
       "    </tr>\n",
       "    <tr>\n",
       "      <th>38.0</th>\n",
       "      <td>Paul Pierce</td>\n",
       "      <td>Los Angeles Clippers</td>\n",
       "      <td>34.0</td>\n",
       "      <td>SF</td>\n",
       "      <td>6-7</td>\n",
       "      <td>235.0</td>\n",
       "      <td>Kansas</td>\n",
       "      <td>3376000.0</td>\n",
       "    </tr>\n",
       "    <tr>\n",
       "      <th>39.0</th>\n",
       "      <td>Pablo Prigioni</td>\n",
       "      <td>Los Angeles Clippers</td>\n",
       "      <td>9.0</td>\n",
       "      <td>PG</td>\n",
       "      <td>6-3</td>\n",
       "      <td>185.0</td>\n",
       "      <td>North Carolina</td>\n",
       "      <td>947726.0</td>\n",
       "    </tr>\n",
       "    <tr>\n",
       "      <th>40.0</th>\n",
       "      <td>Tim Duncan</td>\n",
       "      <td>San Antonio Spurs</td>\n",
       "      <td>21.0</td>\n",
       "      <td>C</td>\n",
       "      <td>6-11</td>\n",
       "      <td>250.0</td>\n",
       "      <td>Wake Forest</td>\n",
       "      <td>5250000.0</td>\n",
       "    </tr>\n",
       "  </tbody>\n",
       "</table>\n",
       "</div>"
      ],
      "text/plain": [
       "                 Name                   Team  Number Position Height  Weight  \\\n",
       "Age                                                                            \n",
       "19.0     Devin Booker           Phoenix Suns     1.0       SG    6-6   206.0   \n",
       "20.0      James Young         Boston Celtics    13.0       SG    6-6   215.0   \n",
       "21.0    Jordan Mickey         Boston Celtics    55.0       PF    6-8   235.0   \n",
       "22.0      R.J. Hunter         Boston Celtics    28.0       SG    6-5   185.0   \n",
       "23.0     Shane Larkin          Brooklyn Nets     0.0       PG   5-11   175.0   \n",
       "24.0  Jared Sullinger         Boston Celtics     7.0        C    6-9   260.0   \n",
       "25.0    Avery Bradley         Boston Celtics     0.0       PG    6-2   180.0   \n",
       "26.0     Tyler Zeller         Boston Celtics    44.0        C    7-0   253.0   \n",
       "27.0     John Holland         Boston Celtics    30.0       SG    6-5   205.0   \n",
       "28.0  Wayne Ellington          Brooklyn Nets    21.0       SG    6-4   200.0   \n",
       "29.0    Jonas Jerebko         Boston Celtics     8.0       PF   6-10   231.0   \n",
       "30.0    Arron Afflalo        New York Knicks     4.0       SG    6-5   210.0   \n",
       "31.0     Andrew Bogut  Golden State Warriors    12.0        C    7-0   260.0   \n",
       "32.0     Jarrett Jack          Brooklyn Nets     2.0       PG    6-3   200.0   \n",
       "33.0     Lou Amundson        New York Knicks    17.0       PF    6-9   220.0   \n",
       "34.0    Jose Calderon        New York Knicks     3.0       PG    6-3   200.0   \n",
       "35.0    Mike Dunleavy          Chicago Bulls    34.0       SG    6-9   230.0   \n",
       "36.0       Luis Scola        Toronto Raptors     4.0       PF    6-9   240.0   \n",
       "37.0      Elton Brand     Philadelphia 76ers    42.0       PF    6-9   254.0   \n",
       "38.0      Paul Pierce   Los Angeles Clippers    34.0       SF    6-7   235.0   \n",
       "39.0   Pablo Prigioni   Los Angeles Clippers     9.0       PG    6-3   185.0   \n",
       "40.0       Tim Duncan      San Antonio Spurs    21.0        C   6-11   250.0   \n",
       "\n",
       "                College      Salary  \n",
       "Age                                  \n",
       "19.0           Kentucky   2127840.0  \n",
       "20.0           Kentucky   1749840.0  \n",
       "21.0                LSU   1170960.0  \n",
       "22.0      Georgia State   1148640.0  \n",
       "23.0         Miami (FL)   1500000.0  \n",
       "24.0         Ohio State   2569260.0  \n",
       "25.0              Texas   7730337.0  \n",
       "26.0     North Carolina   2616975.0  \n",
       "27.0  Boston University   6912869.0  \n",
       "28.0     North Carolina   1500000.0  \n",
       "29.0           Missouri   5000000.0  \n",
       "30.0               UCLA   8000000.0  \n",
       "31.0               Utah  13800000.0  \n",
       "32.0       Georgia Tech   6300000.0  \n",
       "33.0               UNLV   1635476.0  \n",
       "34.0     Oklahoma State   7402812.0  \n",
       "35.0               Duke   4500000.0  \n",
       "36.0           Michigan   2900000.0  \n",
       "37.0               Duke  25000000.0  \n",
       "38.0             Kansas   3376000.0  \n",
       "39.0     North Carolina    947726.0  \n",
       "40.0        Wake Forest   5250000.0  "
      ]
     },
     "execution_count": 19,
     "metadata": {},
     "output_type": "execute_result"
    }
   ],
   "source": [
    "gk.first()"
   ]
  },
  {
   "cell_type": "code",
   "execution_count": 20,
   "id": "8dd6cf1f-8e58-4edb-a1a6-cfbacb74b112",
   "metadata": {},
   "outputs": [
    {
     "data": {
      "text/plain": [
       "26.938730853391686"
      ]
     },
     "execution_count": 20,
     "metadata": {},
     "output_type": "execute_result"
    }
   ],
   "source": [
    "df.Age.mean()"
   ]
  },
  {
   "cell_type": "code",
   "execution_count": 21,
   "id": "a384e65d-ac18-414f-be6d-f8b5f2f85d47",
   "metadata": {},
   "outputs": [
    {
     "data": {
      "text/plain": [
       "26.0"
      ]
     },
     "execution_count": 21,
     "metadata": {},
     "output_type": "execute_result"
    }
   ],
   "source": [
    "df.Age.median()"
   ]
  },
  {
   "cell_type": "code",
   "execution_count": 22,
   "id": "d45873b7-4464-4d91-acaf-9327ffa1c217",
   "metadata": {},
   "outputs": [
    {
     "data": {
      "text/plain": [
       "0    24.0\n",
       "Name: Age, dtype: float64"
      ]
     },
     "execution_count": 22,
     "metadata": {},
     "output_type": "execute_result"
    }
   ],
   "source": [
    "df.Age.mode()"
   ]
  },
  {
   "cell_type": "code",
   "execution_count": 23,
   "id": "8e5c2a92-e3b7-431d-919f-521189e757ef",
   "metadata": {},
   "outputs": [
    {
     "data": {
      "text/plain": [
       "4.404016424405833"
      ]
     },
     "execution_count": 23,
     "metadata": {},
     "output_type": "execute_result"
    }
   ],
   "source": [
    "df.Age.std()"
   ]
  },
  {
   "cell_type": "code",
   "execution_count": 24,
   "id": "15c9b6a2-f997-4214-b8e2-496cacd48970",
   "metadata": {},
   "outputs": [
    {
     "data": {
      "text/html": [
       "<div>\n",
       "<style scoped>\n",
       "    .dataframe tbody tr th:only-of-type {\n",
       "        vertical-align: middle;\n",
       "    }\n",
       "\n",
       "    .dataframe tbody tr th {\n",
       "        vertical-align: top;\n",
       "    }\n",
       "\n",
       "    .dataframe thead th {\n",
       "        text-align: right;\n",
       "    }\n",
       "</style>\n",
       "<table border=\"1\" class=\"dataframe\">\n",
       "  <thead>\n",
       "    <tr style=\"text-align: right;\">\n",
       "      <th></th>\n",
       "      <th></th>\n",
       "      <th></th>\n",
       "      <th>Name</th>\n",
       "      <th>Team</th>\n",
       "      <th>Number</th>\n",
       "      <th>Position</th>\n",
       "      <th>Height</th>\n",
       "      <th>College</th>\n",
       "    </tr>\n",
       "    <tr>\n",
       "      <th>Age</th>\n",
       "      <th>Weight</th>\n",
       "      <th>Salary</th>\n",
       "      <th></th>\n",
       "      <th></th>\n",
       "      <th></th>\n",
       "      <th></th>\n",
       "      <th></th>\n",
       "      <th></th>\n",
       "    </tr>\n",
       "  </thead>\n",
       "  <tbody>\n",
       "    <tr>\n",
       "      <th rowspan=\"2\" valign=\"top\">19.0</th>\n",
       "      <th>202.0</th>\n",
       "      <th>1733040.0</th>\n",
       "      <td>Rashad Vaughn</td>\n",
       "      <td>Milwaukee Bucks</td>\n",
       "      <td>20.0</td>\n",
       "      <td>SG</td>\n",
       "      <td>6-6</td>\n",
       "      <td>UNLV</td>\n",
       "    </tr>\n",
       "    <tr>\n",
       "      <th>206.0</th>\n",
       "      <th>2127840.0</th>\n",
       "      <td>Devin Booker</td>\n",
       "      <td>Phoenix Suns</td>\n",
       "      <td>1.0</td>\n",
       "      <td>SG</td>\n",
       "      <td>6-6</td>\n",
       "      <td>Kentucky</td>\n",
       "    </tr>\n",
       "    <tr>\n",
       "      <th rowspan=\"3\" valign=\"top\">20.0</th>\n",
       "      <th>190.0</th>\n",
       "      <th>3777720.0</th>\n",
       "      <td>Dante Exum</td>\n",
       "      <td>Utah Jazz</td>\n",
       "      <td>11.0</td>\n",
       "      <td>PG</td>\n",
       "      <td>6-6</td>\n",
       "      <td>None</td>\n",
       "    </tr>\n",
       "    <tr>\n",
       "      <th rowspan=\"2\" valign=\"top\">195.0</th>\n",
       "      <th>1282080.0</th>\n",
       "      <td>Tyus Jones</td>\n",
       "      <td>Minnesota Timberwolves</td>\n",
       "      <td>1.0</td>\n",
       "      <td>PG</td>\n",
       "      <td>6-2</td>\n",
       "      <td>Duke</td>\n",
       "    </tr>\n",
       "    <tr>\n",
       "      <th>5103120.0</th>\n",
       "      <td>D'Angelo Russell</td>\n",
       "      <td>Los Angeles Lakers</td>\n",
       "      <td>1.0</td>\n",
       "      <td>PG</td>\n",
       "      <td>6-5</td>\n",
       "      <td>Ohio State</td>\n",
       "    </tr>\n",
       "    <tr>\n",
       "      <th>...</th>\n",
       "      <th>...</th>\n",
       "      <th>...</th>\n",
       "      <td>...</td>\n",
       "      <td>...</td>\n",
       "      <td>...</td>\n",
       "      <td>...</td>\n",
       "      <td>...</td>\n",
       "      <td>...</td>\n",
       "    </tr>\n",
       "    <tr>\n",
       "      <th rowspan=\"2\" valign=\"top\">39.0</th>\n",
       "      <th>185.0</th>\n",
       "      <th>947726.0</th>\n",
       "      <td>Pablo Prigioni</td>\n",
       "      <td>Los Angeles Clippers</td>\n",
       "      <td>9.0</td>\n",
       "      <td>PG</td>\n",
       "      <td>6-3</td>\n",
       "      <td>None</td>\n",
       "    </tr>\n",
       "    <tr>\n",
       "      <th>220.0</th>\n",
       "      <th>4088019.0</th>\n",
       "      <td>Vince Carter</td>\n",
       "      <td>Memphis Grizzlies</td>\n",
       "      <td>15.0</td>\n",
       "      <td>SG</td>\n",
       "      <td>6-6</td>\n",
       "      <td>North Carolina</td>\n",
       "    </tr>\n",
       "    <tr>\n",
       "      <th rowspan=\"3\" valign=\"top\">40.0</th>\n",
       "      <th>200.0</th>\n",
       "      <th>250750.0</th>\n",
       "      <td>Andre Miller</td>\n",
       "      <td>San Antonio Spurs</td>\n",
       "      <td>24.0</td>\n",
       "      <td>PG</td>\n",
       "      <td>6-3</td>\n",
       "      <td>Utah</td>\n",
       "    </tr>\n",
       "    <tr>\n",
       "      <th>240.0</th>\n",
       "      <th>8500000.0</th>\n",
       "      <td>Kevin Garnett</td>\n",
       "      <td>Minnesota Timberwolves</td>\n",
       "      <td>21.0</td>\n",
       "      <td>PF</td>\n",
       "      <td>6-11</td>\n",
       "      <td>None</td>\n",
       "    </tr>\n",
       "    <tr>\n",
       "      <th>250.0</th>\n",
       "      <th>5250000.0</th>\n",
       "      <td>Tim Duncan</td>\n",
       "      <td>San Antonio Spurs</td>\n",
       "      <td>21.0</td>\n",
       "      <td>C</td>\n",
       "      <td>6-11</td>\n",
       "      <td>Wake Forest</td>\n",
       "    </tr>\n",
       "  </tbody>\n",
       "</table>\n",
       "<p>443 rows × 6 columns</p>\n",
       "</div>"
      ],
      "text/plain": [
       "                                   Name                    Team  Number  \\\n",
       "Age  Weight Salary                                                        \n",
       "19.0 202.0  1733040.0     Rashad Vaughn         Milwaukee Bucks    20.0   \n",
       "     206.0  2127840.0      Devin Booker            Phoenix Suns     1.0   \n",
       "20.0 190.0  3777720.0        Dante Exum               Utah Jazz    11.0   \n",
       "     195.0  1282080.0        Tyus Jones  Minnesota Timberwolves     1.0   \n",
       "            5103120.0  D'Angelo Russell      Los Angeles Lakers     1.0   \n",
       "...                                 ...                     ...     ...   \n",
       "39.0 185.0  947726.0     Pablo Prigioni    Los Angeles Clippers     9.0   \n",
       "     220.0  4088019.0      Vince Carter       Memphis Grizzlies    15.0   \n",
       "40.0 200.0  250750.0       Andre Miller       San Antonio Spurs    24.0   \n",
       "     240.0  8500000.0     Kevin Garnett  Minnesota Timberwolves    21.0   \n",
       "     250.0  5250000.0        Tim Duncan       San Antonio Spurs    21.0   \n",
       "\n",
       "                      Position Height         College  \n",
       "Age  Weight Salary                                     \n",
       "19.0 202.0  1733040.0       SG    6-6            UNLV  \n",
       "     206.0  2127840.0       SG    6-6        Kentucky  \n",
       "20.0 190.0  3777720.0       PG    6-6            None  \n",
       "     195.0  1282080.0       PG    6-2            Duke  \n",
       "            5103120.0       PG    6-5      Ohio State  \n",
       "...                        ...    ...             ...  \n",
       "39.0 185.0  947726.0        PG    6-3            None  \n",
       "     220.0  4088019.0       SG    6-6  North Carolina  \n",
       "40.0 200.0  250750.0        PG    6-3            Utah  \n",
       "     240.0  8500000.0       PF   6-11            None  \n",
       "     250.0  5250000.0        C   6-11     Wake Forest  \n",
       "\n",
       "[443 rows x 6 columns]"
      ]
     },
     "execution_count": 24,
     "metadata": {},
     "output_type": "execute_result"
    }
   ],
   "source": [
    "grp=df.groupby(['Age','Weight','Salary'])\n",
    "grp.first()"
   ]
  },
  {
   "cell_type": "code",
   "execution_count": 27,
   "id": "43958b09-228c-4273-b0e5-1a60d94d4e51",
   "metadata": {},
   "outputs": [],
   "source": [
    "grp1=df.groupby('Age')['Weight'].mean()\n",
    "#grp1 will be a Series where the index corresponds to the unique values in the 'Age' column, \n",
    "#and the values correspond to the mean 'Weight' for each group."
   ]
  },
  {
   "cell_type": "code",
   "execution_count": 28,
   "id": "fbe96a97-7f73-44aa-8675-d78b85f91b5c",
   "metadata": {},
   "outputs": [
    {
     "name": "stdout",
     "output_type": "stream",
     "text": [
      "Age\n",
      "19.0    204.000000\n",
      "20.0    223.736842\n",
      "21.0    220.894737\n",
      "22.0    224.230769\n",
      "23.0    214.048780\n",
      "24.0    216.744681\n",
      "25.0    214.333333\n",
      "26.0    228.500000\n",
      "27.0    220.463415\n",
      "28.0    222.967742\n",
      "29.0    233.321429\n",
      "30.0    214.645161\n",
      "31.0    229.772727\n",
      "32.0    220.846154\n",
      "33.0    226.357143\n",
      "34.0    227.300000\n",
      "35.0    229.222222\n",
      "36.0    222.100000\n",
      "37.0    239.000000\n",
      "38.0    218.750000\n",
      "39.0    202.500000\n",
      "40.0    230.000000\n",
      "Name: Weight, dtype: float64\n"
     ]
    }
   ],
   "source": [
    "print(grp1)"
   ]
  },
  {
   "cell_type": "code",
   "execution_count": 30,
   "id": "ba3a6f1b-2fc9-426c-94e3-c6f9e7e6f5fb",
   "metadata": {},
   "outputs": [
    {
     "name": "stdout",
     "output_type": "stream",
     "text": [
      "Age\n",
      "19.0    204.0\n",
      "20.0    220.0\n",
      "21.0    218.0\n",
      "22.0    229.0\n",
      "23.0    206.0\n",
      "24.0    214.0\n",
      "25.0    215.0\n",
      "26.0    227.0\n",
      "27.0    220.0\n",
      "28.0    220.0\n",
      "29.0    233.0\n",
      "30.0    210.0\n",
      "31.0    237.5\n",
      "32.0    220.0\n",
      "33.0    230.0\n",
      "34.0    230.0\n",
      "35.0    230.0\n",
      "36.0    227.0\n",
      "37.0    245.0\n",
      "38.0    220.0\n",
      "39.0    202.5\n",
      "40.0    240.0\n",
      "Name: Weight, dtype: float64\n"
     ]
    }
   ],
   "source": [
    "grp2=df.groupby('Age')['Weight'].median()\n",
    "print(grp2)"
   ]
  },
  {
   "cell_type": "code",
   "execution_count": 31,
   "id": "15bb4288-fa98-4313-997f-0aa29009e934",
   "metadata": {},
   "outputs": [
    {
     "name": "stdout",
     "output_type": "stream",
     "text": [
      "Age\n",
      "19.0    202.0\n",
      "20.0    190.0\n",
      "21.0    185.0\n",
      "22.0    172.0\n",
      "23.0    165.0\n",
      "24.0    175.0\n",
      "25.0    170.0\n",
      "26.0    169.0\n",
      "27.0    175.0\n",
      "28.0    175.0\n",
      "29.0    175.0\n",
      "30.0    173.0\n",
      "31.0    161.0\n",
      "32.0    175.0\n",
      "33.0    185.0\n",
      "34.0    185.0\n",
      "35.0    190.0\n",
      "36.0    172.0\n",
      "37.0    212.0\n",
      "38.0    185.0\n",
      "39.0    185.0\n",
      "40.0    200.0\n",
      "Name: Weight, dtype: float64\n"
     ]
    }
   ],
   "source": [
    "grp3=df.groupby('Age')['Weight'].min()\n",
    "print(grp3)"
   ]
  },
  {
   "cell_type": "code",
   "execution_count": 32,
   "id": "28efddf1-8cb1-48f0-b3dd-c4c160243a59",
   "metadata": {},
   "outputs": [
    {
     "name": "stdout",
     "output_type": "stream",
     "text": [
      "Age\n",
      "19.0    206.0\n",
      "20.0    275.0\n",
      "21.0    280.0\n",
      "22.0    279.0\n",
      "23.0    275.0\n",
      "24.0    265.0\n",
      "25.0    270.0\n",
      "26.0    278.0\n",
      "27.0    290.0\n",
      "28.0    275.0\n",
      "29.0    275.0\n",
      "30.0    307.0\n",
      "31.0    289.0\n",
      "32.0    275.0\n",
      "33.0    273.0\n",
      "34.0    265.0\n",
      "35.0    255.0\n",
      "36.0    260.0\n",
      "37.0    254.0\n",
      "38.0    250.0\n",
      "39.0    220.0\n",
      "40.0    250.0\n",
      "Name: Weight, dtype: float64\n"
     ]
    }
   ],
   "source": [
    "grp4=df.groupby('Age')['Weight'].max()\n",
    "print(grp4)"
   ]
  },
  {
   "cell_type": "code",
   "execution_count": 33,
   "id": "efcf0a79-114e-4142-8234-dadd6e387a1a",
   "metadata": {},
   "outputs": [
    {
     "name": "stdout",
     "output_type": "stream",
     "text": [
      "Age\n",
      "19.0     2.828427\n",
      "20.0    22.280640\n",
      "21.0    25.514472\n",
      "22.0    25.451613\n",
      "23.0    25.264551\n",
      "24.0    25.617986\n",
      "25.0    25.033614\n",
      "26.0    24.702227\n",
      "27.0    29.021628\n",
      "28.0    26.904131\n",
      "29.0    22.575066\n",
      "30.0    28.191664\n",
      "31.0    32.790724\n",
      "32.0    27.193278\n",
      "33.0    27.553046\n",
      "34.0    29.563679\n",
      "35.0    20.980811\n",
      "36.0    24.727178\n",
      "37.0    18.493242\n",
      "38.0    29.261750\n",
      "39.0    24.748737\n",
      "40.0    26.457513\n",
      "Name: Weight, dtype: float64\n"
     ]
    }
   ],
   "source": [
    "grp5=df.groupby('Age')['Weight'].std()\n",
    "print(grp5)"
   ]
  },
  {
   "cell_type": "code",
   "execution_count": 41,
   "id": "7c62ec0f-1002-460a-a375-582edd3a6dc8",
   "metadata": {},
   "outputs": [
    {
     "data": {
      "text/plain": [
       "Age       2.693873e+01\n",
       "Number    1.767834e+01\n",
       "Salary    4.842684e+06\n",
       "dtype: float64"
      ]
     },
     "execution_count": 41,
     "metadata": {},
     "output_type": "execute_result"
    }
   ],
   "source": [
    "df[['Age','Number','Salary']].mean()"
   ]
  },
  {
   "cell_type": "code",
   "execution_count": 35,
   "id": "18a2fc54-a377-4145-b3bc-f71652eef9eb",
   "metadata": {},
   "outputs": [],
   "source": [
    "d=pd.read_csv(\"iris_dataset.csv\")"
   ]
  },
  {
   "cell_type": "code",
   "execution_count": 36,
   "id": "eb5fcd92-e180-4eb7-920c-2b65c65a0e3d",
   "metadata": {},
   "outputs": [
    {
     "data": {
      "text/html": [
       "<div>\n",
       "<style scoped>\n",
       "    .dataframe tbody tr th:only-of-type {\n",
       "        vertical-align: middle;\n",
       "    }\n",
       "\n",
       "    .dataframe tbody tr th {\n",
       "        vertical-align: top;\n",
       "    }\n",
       "\n",
       "    .dataframe thead th {\n",
       "        text-align: right;\n",
       "    }\n",
       "</style>\n",
       "<table border=\"1\" class=\"dataframe\">\n",
       "  <thead>\n",
       "    <tr style=\"text-align: right;\">\n",
       "      <th></th>\n",
       "      <th>sepal length (cm)</th>\n",
       "      <th>sepal width (cm)</th>\n",
       "      <th>petal length (cm)</th>\n",
       "      <th>petal width (cm)</th>\n",
       "      <th>target</th>\n",
       "    </tr>\n",
       "  </thead>\n",
       "  <tbody>\n",
       "    <tr>\n",
       "      <th>0</th>\n",
       "      <td>5.1</td>\n",
       "      <td>3.5</td>\n",
       "      <td>1.4</td>\n",
       "      <td>0.2</td>\n",
       "      <td>Iris-setosa</td>\n",
       "    </tr>\n",
       "    <tr>\n",
       "      <th>1</th>\n",
       "      <td>4.9</td>\n",
       "      <td>3.0</td>\n",
       "      <td>1.4</td>\n",
       "      <td>0.2</td>\n",
       "      <td>Iris-setosa</td>\n",
       "    </tr>\n",
       "    <tr>\n",
       "      <th>2</th>\n",
       "      <td>4.7</td>\n",
       "      <td>3.2</td>\n",
       "      <td>1.3</td>\n",
       "      <td>0.2</td>\n",
       "      <td>Iris-setosa</td>\n",
       "    </tr>\n",
       "    <tr>\n",
       "      <th>3</th>\n",
       "      <td>4.6</td>\n",
       "      <td>3.1</td>\n",
       "      <td>1.5</td>\n",
       "      <td>0.2</td>\n",
       "      <td>Iris-setosa</td>\n",
       "    </tr>\n",
       "    <tr>\n",
       "      <th>4</th>\n",
       "      <td>5.0</td>\n",
       "      <td>3.6</td>\n",
       "      <td>1.4</td>\n",
       "      <td>0.2</td>\n",
       "      <td>Iris-setosa</td>\n",
       "    </tr>\n",
       "  </tbody>\n",
       "</table>\n",
       "</div>"
      ],
      "text/plain": [
       "   sepal length (cm)  sepal width (cm)  petal length (cm)  petal width (cm)  \\\n",
       "0                5.1               3.5                1.4               0.2   \n",
       "1                4.9               3.0                1.4               0.2   \n",
       "2                4.7               3.2                1.3               0.2   \n",
       "3                4.6               3.1                1.5               0.2   \n",
       "4                5.0               3.6                1.4               0.2   \n",
       "\n",
       "        target  \n",
       "0  Iris-setosa  \n",
       "1  Iris-setosa  \n",
       "2  Iris-setosa  \n",
       "3  Iris-setosa  \n",
       "4  Iris-setosa  "
      ]
     },
     "execution_count": 36,
     "metadata": {},
     "output_type": "execute_result"
    }
   ],
   "source": [
    "d.head()"
   ]
  },
  {
   "cell_type": "code",
   "execution_count": 37,
   "id": "661dad62-0271-4dee-9a0c-aa07ee52bdf1",
   "metadata": {},
   "outputs": [
    {
     "data": {
      "text/plain": [
       "<bound method DataFrame.info of      sepal length (cm)  sepal width (cm)  petal length (cm)  petal width (cm)  \\\n",
       "0                  5.1               3.5                1.4               0.2   \n",
       "1                  4.9               3.0                1.4               0.2   \n",
       "2                  4.7               3.2                1.3               0.2   \n",
       "3                  4.6               3.1                1.5               0.2   \n",
       "4                  5.0               3.6                1.4               0.2   \n",
       "..                 ...               ...                ...               ...   \n",
       "145                6.7               3.0                5.2               2.3   \n",
       "146                6.3               2.5                5.0               1.9   \n",
       "147                6.5               3.0                5.2               2.0   \n",
       "148                6.2               3.4                5.4               2.3   \n",
       "149                5.9               3.0                5.1               1.8   \n",
       "\n",
       "             target  \n",
       "0       Iris-setosa  \n",
       "1       Iris-setosa  \n",
       "2       Iris-setosa  \n",
       "3       Iris-setosa  \n",
       "4       Iris-setosa  \n",
       "..              ...  \n",
       "145  Iris-virginica  \n",
       "146  Iris-virginica  \n",
       "147  Iris-virginica  \n",
       "148  Iris-virginica  \n",
       "149  Iris-virginica  \n",
       "\n",
       "[150 rows x 5 columns]>"
      ]
     },
     "execution_count": 37,
     "metadata": {},
     "output_type": "execute_result"
    }
   ],
   "source": [
    "d.info"
   ]
  },
  {
   "cell_type": "code",
   "execution_count": 38,
   "id": "367e6c8a-d0d5-4c9d-bf25-3f99f6a5f7c7",
   "metadata": {},
   "outputs": [
    {
     "data": {
      "text/plain": [
       "(150, 5)"
      ]
     },
     "execution_count": 38,
     "metadata": {},
     "output_type": "execute_result"
    }
   ],
   "source": [
    "d.shape"
   ]
  },
  {
   "cell_type": "code",
   "execution_count": 44,
   "id": "e10351bb-4a41-46fe-9b79-102911753937",
   "metadata": {},
   "outputs": [
    {
     "name": "stdout",
     "output_type": "stream",
     "text": [
      "Index(['sepal length (cm)', 'sepal width (cm)', 'petal length (cm)',\n",
      "       'petal width (cm)', 'target'],\n",
      "      dtype='object')\n"
     ]
    }
   ],
   "source": [
    "print(d.columns)"
   ]
  },
  {
   "cell_type": "code",
   "execution_count": 45,
   "id": "053fb94b-9235-4cbe-a92d-1be702a5ff0c",
   "metadata": {},
   "outputs": [],
   "source": [
    "# Filter data for each species: 'Iris-setosa', 'Iris-versicolor', and 'Iris-virginica'\n",
    "setosa_data = d[d['target'] == 'setosa']\n",
    "versicolor_data = d[d['target'] == 'versicolor']\n",
    "virginica_data = d[d['target'] == 'virginica']\n"
   ]
  },
  {
   "cell_type": "code",
   "execution_count": 46,
   "id": "e007e8a3-3878-4137-9675-f0624cd312ae",
   "metadata": {},
   "outputs": [
    {
     "name": "stdout",
     "output_type": "stream",
     "text": [
      "\n",
      "Statistics for Iris-setosa:\n",
      "       sepal length (cm)  sepal width (cm)  petal length (cm)  \\\n",
      "count                0.0               0.0                0.0   \n",
      "mean                 NaN               NaN                NaN   \n",
      "std                  NaN               NaN                NaN   \n",
      "min                  NaN               NaN                NaN   \n",
      "25%                  NaN               NaN                NaN   \n",
      "50%                  NaN               NaN                NaN   \n",
      "75%                  NaN               NaN                NaN   \n",
      "max                  NaN               NaN                NaN   \n",
      "\n",
      "       petal width (cm)  \n",
      "count               0.0  \n",
      "mean                NaN  \n",
      "std                 NaN  \n",
      "min                 NaN  \n",
      "25%                 NaN  \n",
      "50%                 NaN  \n",
      "75%                 NaN  \n",
      "max                 NaN  \n",
      "\n",
      "Statistics for Iris-versicolor:\n",
      "       sepal length (cm)  sepal width (cm)  petal length (cm)  \\\n",
      "count                0.0               0.0                0.0   \n",
      "mean                 NaN               NaN                NaN   \n",
      "std                  NaN               NaN                NaN   \n",
      "min                  NaN               NaN                NaN   \n",
      "25%                  NaN               NaN                NaN   \n",
      "50%                  NaN               NaN                NaN   \n",
      "75%                  NaN               NaN                NaN   \n",
      "max                  NaN               NaN                NaN   \n",
      "\n",
      "       petal width (cm)  \n",
      "count               0.0  \n",
      "mean                NaN  \n",
      "std                 NaN  \n",
      "min                 NaN  \n",
      "25%                 NaN  \n",
      "50%                 NaN  \n",
      "75%                 NaN  \n",
      "max                 NaN  \n",
      "\n",
      "Statistics for Iris-virginica:\n",
      "       sepal length (cm)  sepal width (cm)  petal length (cm)  \\\n",
      "count                0.0               0.0                0.0   \n",
      "mean                 NaN               NaN                NaN   \n",
      "std                  NaN               NaN                NaN   \n",
      "min                  NaN               NaN                NaN   \n",
      "25%                  NaN               NaN                NaN   \n",
      "50%                  NaN               NaN                NaN   \n",
      "75%                  NaN               NaN                NaN   \n",
      "max                  NaN               NaN                NaN   \n",
      "\n",
      "       petal width (cm)  \n",
      "count               0.0  \n",
      "mean                NaN  \n",
      "std                 NaN  \n",
      "min                 NaN  \n",
      "25%                 NaN  \n",
      "50%                 NaN  \n",
      "75%                 NaN  \n",
      "max                 NaN  \n"
     ]
    }
   ],
   "source": [
    "# Display basic statistical details for each species\n",
    "print(\"\\nStatistics for Iris-setosa:\")\n",
    "print(setosa_data.describe())\n",
    "\n",
    "print(\"\\nStatistics for Iris-versicolor:\")\n",
    "print(versicolor_data.describe())\n",
    "\n",
    "print(\"\\nStatistics for Iris-virginica:\")\n",
    "print(virginica_data.describe())"
   ]
  },
  {
   "cell_type": "code",
   "execution_count": 48,
   "id": "67446ba7-8da4-49a2-afef-e06a1e94cb64",
   "metadata": {},
   "outputs": [
    {
     "name": "stdout",
     "output_type": "stream",
     "text": [
      "\n",
      "Number of occurrences of each species:\n",
      "target\n",
      "Iris-setosa        50\n",
      "Iris-versicolor    50\n",
      "Iris-virginica     50\n",
      "Name: count, dtype: int64\n"
     ]
    }
   ],
   "source": [
    "# Count occurrences of each species\n",
    "species_counts = d['target'].value_counts()\n",
    "print(\"\\nNumber of occurrences of each species:\")\n",
    "print(species_counts)"
   ]
  },
  {
   "cell_type": "code",
   "execution_count": null,
   "id": "8ed58bec-2905-4797-b4b7-567fb32cb87b",
   "metadata": {},
   "outputs": [],
   "source": []
  }
 ],
 "metadata": {
  "kernelspec": {
   "display_name": "Python 3 (ipykernel)",
   "language": "python",
   "name": "python3"
  },
  "language_info": {
   "codemirror_mode": {
    "name": "ipython",
    "version": 3
   },
   "file_extension": ".py",
   "mimetype": "text/x-python",
   "name": "python",
   "nbconvert_exporter": "python",
   "pygments_lexer": "ipython3",
   "version": "3.12.0"
  }
 },
 "nbformat": 4,
 "nbformat_minor": 5
}
