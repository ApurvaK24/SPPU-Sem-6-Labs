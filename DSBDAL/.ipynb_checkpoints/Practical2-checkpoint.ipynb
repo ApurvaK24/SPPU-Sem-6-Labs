{
 "cells": [
  {
   "cell_type": "code",
   "execution_count": 2,
   "id": "4aa63aeb-08b0-49e7-b5eb-053b0af3bdf2",
   "metadata": {},
   "outputs": [],
   "source": [
    "import pandas as pd\n",
    "import numpy as np"
   ]
  },
  {
   "cell_type": "code",
   "execution_count": 3,
   "id": "91560f20-6e88-4cbd-8b7c-09a974792ff4",
   "metadata": {},
   "outputs": [],
   "source": [
    "df=pd.read_csv(\"student_performance_2.csv\")"
   ]
  },
  {
   "cell_type": "code",
   "execution_count": 4,
   "id": "2cae175f-4ee8-414a-b052-0dd2435011eb",
   "metadata": {},
   "outputs": [
    {
     "data": {
      "text/plain": [
       "(7000, 8)"
      ]
     },
     "execution_count": 4,
     "metadata": {},
     "output_type": "execute_result"
    }
   ],
   "source": [
    "df.shape"
   ]
  },
  {
   "cell_type": "code",
   "execution_count": 5,
   "id": "344872f3-5c79-4066-9233-c2745a037218",
   "metadata": {},
   "outputs": [
    {
     "data": {
      "text/html": [
       "<div>\n",
       "<style scoped>\n",
       "    .dataframe tbody tr th:only-of-type {\n",
       "        vertical-align: middle;\n",
       "    }\n",
       "\n",
       "    .dataframe tbody tr th {\n",
       "        vertical-align: top;\n",
       "    }\n",
       "\n",
       "    .dataframe thead th {\n",
       "        text-align: right;\n",
       "    }\n",
       "</style>\n",
       "<table border=\"1\" class=\"dataframe\">\n",
       "  <thead>\n",
       "    <tr style=\"text-align: right;\">\n",
       "      <th></th>\n",
       "      <th>Student ID</th>\n",
       "      <th>Gender</th>\n",
       "      <th>Age</th>\n",
       "      <th>School</th>\n",
       "      <th>Math Score</th>\n",
       "      <th>Reading Score</th>\n",
       "      <th>Writing Score</th>\n",
       "      <th>Class Performance</th>\n",
       "    </tr>\n",
       "  </thead>\n",
       "  <tbody>\n",
       "    <tr>\n",
       "      <th>0</th>\n",
       "      <td>False</td>\n",
       "      <td>False</td>\n",
       "      <td>False</td>\n",
       "      <td>False</td>\n",
       "      <td>False</td>\n",
       "      <td>False</td>\n",
       "      <td>False</td>\n",
       "      <td>False</td>\n",
       "    </tr>\n",
       "    <tr>\n",
       "      <th>1</th>\n",
       "      <td>False</td>\n",
       "      <td>False</td>\n",
       "      <td>False</td>\n",
       "      <td>False</td>\n",
       "      <td>False</td>\n",
       "      <td>False</td>\n",
       "      <td>False</td>\n",
       "      <td>False</td>\n",
       "    </tr>\n",
       "    <tr>\n",
       "      <th>2</th>\n",
       "      <td>False</td>\n",
       "      <td>False</td>\n",
       "      <td>False</td>\n",
       "      <td>False</td>\n",
       "      <td>False</td>\n",
       "      <td>False</td>\n",
       "      <td>False</td>\n",
       "      <td>False</td>\n",
       "    </tr>\n",
       "    <tr>\n",
       "      <th>3</th>\n",
       "      <td>False</td>\n",
       "      <td>False</td>\n",
       "      <td>False</td>\n",
       "      <td>False</td>\n",
       "      <td>False</td>\n",
       "      <td>False</td>\n",
       "      <td>False</td>\n",
       "      <td>False</td>\n",
       "    </tr>\n",
       "    <tr>\n",
       "      <th>4</th>\n",
       "      <td>False</td>\n",
       "      <td>False</td>\n",
       "      <td>False</td>\n",
       "      <td>False</td>\n",
       "      <td>False</td>\n",
       "      <td>False</td>\n",
       "      <td>False</td>\n",
       "      <td>False</td>\n",
       "    </tr>\n",
       "    <tr>\n",
       "      <th>...</th>\n",
       "      <td>...</td>\n",
       "      <td>...</td>\n",
       "      <td>...</td>\n",
       "      <td>...</td>\n",
       "      <td>...</td>\n",
       "      <td>...</td>\n",
       "      <td>...</td>\n",
       "      <td>...</td>\n",
       "    </tr>\n",
       "    <tr>\n",
       "      <th>6995</th>\n",
       "      <td>False</td>\n",
       "      <td>False</td>\n",
       "      <td>False</td>\n",
       "      <td>False</td>\n",
       "      <td>False</td>\n",
       "      <td>False</td>\n",
       "      <td>False</td>\n",
       "      <td>False</td>\n",
       "    </tr>\n",
       "    <tr>\n",
       "      <th>6996</th>\n",
       "      <td>False</td>\n",
       "      <td>False</td>\n",
       "      <td>False</td>\n",
       "      <td>False</td>\n",
       "      <td>False</td>\n",
       "      <td>False</td>\n",
       "      <td>False</td>\n",
       "      <td>False</td>\n",
       "    </tr>\n",
       "    <tr>\n",
       "      <th>6997</th>\n",
       "      <td>False</td>\n",
       "      <td>False</td>\n",
       "      <td>False</td>\n",
       "      <td>False</td>\n",
       "      <td>False</td>\n",
       "      <td>False</td>\n",
       "      <td>False</td>\n",
       "      <td>False</td>\n",
       "    </tr>\n",
       "    <tr>\n",
       "      <th>6998</th>\n",
       "      <td>False</td>\n",
       "      <td>False</td>\n",
       "      <td>False</td>\n",
       "      <td>False</td>\n",
       "      <td>False</td>\n",
       "      <td>False</td>\n",
       "      <td>False</td>\n",
       "      <td>False</td>\n",
       "    </tr>\n",
       "    <tr>\n",
       "      <th>6999</th>\n",
       "      <td>False</td>\n",
       "      <td>False</td>\n",
       "      <td>False</td>\n",
       "      <td>False</td>\n",
       "      <td>False</td>\n",
       "      <td>False</td>\n",
       "      <td>False</td>\n",
       "      <td>False</td>\n",
       "    </tr>\n",
       "  </tbody>\n",
       "</table>\n",
       "<p>7000 rows × 8 columns</p>\n",
       "</div>"
      ],
      "text/plain": [
       "      Student ID  Gender    Age  School  Math Score  Reading Score  \\\n",
       "0          False   False  False   False       False          False   \n",
       "1          False   False  False   False       False          False   \n",
       "2          False   False  False   False       False          False   \n",
       "3          False   False  False   False       False          False   \n",
       "4          False   False  False   False       False          False   \n",
       "...          ...     ...    ...     ...         ...            ...   \n",
       "6995       False   False  False   False       False          False   \n",
       "6996       False   False  False   False       False          False   \n",
       "6997       False   False  False   False       False          False   \n",
       "6998       False   False  False   False       False          False   \n",
       "6999       False   False  False   False       False          False   \n",
       "\n",
       "      Writing Score  Class Performance  \n",
       "0             False              False  \n",
       "1             False              False  \n",
       "2             False              False  \n",
       "3             False              False  \n",
       "4             False              False  \n",
       "...             ...                ...  \n",
       "6995          False              False  \n",
       "6996          False              False  \n",
       "6997          False              False  \n",
       "6998          False              False  \n",
       "6999          False              False  \n",
       "\n",
       "[7000 rows x 8 columns]"
      ]
     },
     "execution_count": 5,
     "metadata": {},
     "output_type": "execute_result"
    }
   ],
   "source": [
    "df.isnull()"
   ]
  },
  {
   "cell_type": "code",
   "execution_count": 6,
   "id": "21720ffb-f8c2-4b0c-876d-3e3803adaf2e",
   "metadata": {},
   "outputs": [
    {
     "data": {
      "text/plain": [
       "Student ID             0\n",
       "Gender                 0\n",
       "Age                    0\n",
       "School                 0\n",
       "Math Score           358\n",
       "Reading Score        345\n",
       "Writing Score        337\n",
       "Class Performance      0\n",
       "dtype: int64"
      ]
     },
     "execution_count": 6,
     "metadata": {},
     "output_type": "execute_result"
    }
   ],
   "source": [
    "df.isnull().sum()"
   ]
  },
  {
   "cell_type": "code",
   "execution_count": 7,
   "id": "d523d1f6-f1f0-43c1-9809-e4ef14ac45c0",
   "metadata": {},
   "outputs": [
    {
     "data": {
      "text/plain": [
       "<bound method DataFrame.info of       Student ID  Gender  Age School  Math Score  Reading Score  \\\n",
       "0              1    Male   18      C        99.0           94.0   \n",
       "1              2    Male   17      D        78.0           61.0   \n",
       "2              3  Female   21      B        67.0           95.0   \n",
       "3              4  Female   20      E        67.0           67.0   \n",
       "4              5  Female   20      B        66.0           81.0   \n",
       "...          ...     ...  ...    ...         ...            ...   \n",
       "6995        6996  Female   17      C        69.0           72.0   \n",
       "6996        6997  Female   21      E        70.0           79.0   \n",
       "6997        6998    Male   21      C        80.0           79.0   \n",
       "6998        6999    Male   20      A        74.0           80.0   \n",
       "6999        7000    Male   18      D        60.0          100.0   \n",
       "\n",
       "      Writing Score Class Performance  \n",
       "0              98.0                 C  \n",
       "1              98.0                 B  \n",
       "2              78.0                 A  \n",
       "3              86.0                 C  \n",
       "4              74.0                 B  \n",
       "...             ...               ...  \n",
       "6995           80.0                 C  \n",
       "6996          100.0                 C  \n",
       "6997           78.0                 B  \n",
       "6998           68.0                 A  \n",
       "6999           81.0                 A  \n",
       "\n",
       "[7000 rows x 8 columns]>"
      ]
     },
     "execution_count": 7,
     "metadata": {},
     "output_type": "execute_result"
    }
   ],
   "source": [
    "df.info"
   ]
  },
  {
   "cell_type": "code",
   "execution_count": 8,
   "id": "d0a07460-73e2-4254-a7d3-f540029d106e",
   "metadata": {},
   "outputs": [
    {
     "data": {
      "text/html": [
       "<div>\n",
       "<style scoped>\n",
       "    .dataframe tbody tr th:only-of-type {\n",
       "        vertical-align: middle;\n",
       "    }\n",
       "\n",
       "    .dataframe tbody tr th {\n",
       "        vertical-align: top;\n",
       "    }\n",
       "\n",
       "    .dataframe thead th {\n",
       "        text-align: right;\n",
       "    }\n",
       "</style>\n",
       "<table border=\"1\" class=\"dataframe\">\n",
       "  <thead>\n",
       "    <tr style=\"text-align: right;\">\n",
       "      <th></th>\n",
       "      <th>Student ID</th>\n",
       "      <th>Age</th>\n",
       "      <th>Math Score</th>\n",
       "      <th>Reading Score</th>\n",
       "      <th>Writing Score</th>\n",
       "    </tr>\n",
       "  </thead>\n",
       "  <tbody>\n",
       "    <tr>\n",
       "      <th>count</th>\n",
       "      <td>7000.000000</td>\n",
       "      <td>7000.000000</td>\n",
       "      <td>6642.000000</td>\n",
       "      <td>6655.000000</td>\n",
       "      <td>6663.000000</td>\n",
       "    </tr>\n",
       "    <tr>\n",
       "      <th>mean</th>\n",
       "      <td>3500.500000</td>\n",
       "      <td>19.006286</td>\n",
       "      <td>80.463264</td>\n",
       "      <td>80.598648</td>\n",
       "      <td>80.293862</td>\n",
       "    </tr>\n",
       "    <tr>\n",
       "      <th>std</th>\n",
       "      <td>2020.870275</td>\n",
       "      <td>1.411874</td>\n",
       "      <td>13.153499</td>\n",
       "      <td>12.973563</td>\n",
       "      <td>12.746946</td>\n",
       "    </tr>\n",
       "    <tr>\n",
       "      <th>min</th>\n",
       "      <td>1.000000</td>\n",
       "      <td>17.000000</td>\n",
       "      <td>60.000000</td>\n",
       "      <td>60.000000</td>\n",
       "      <td>60.000000</td>\n",
       "    </tr>\n",
       "    <tr>\n",
       "      <th>25%</th>\n",
       "      <td>1750.750000</td>\n",
       "      <td>18.000000</td>\n",
       "      <td>70.000000</td>\n",
       "      <td>70.000000</td>\n",
       "      <td>70.000000</td>\n",
       "    </tr>\n",
       "    <tr>\n",
       "      <th>50%</th>\n",
       "      <td>3500.500000</td>\n",
       "      <td>19.000000</td>\n",
       "      <td>80.000000</td>\n",
       "      <td>80.000000</td>\n",
       "      <td>80.000000</td>\n",
       "    </tr>\n",
       "    <tr>\n",
       "      <th>75%</th>\n",
       "      <td>5250.250000</td>\n",
       "      <td>20.000000</td>\n",
       "      <td>91.000000</td>\n",
       "      <td>91.000000</td>\n",
       "      <td>90.000000</td>\n",
       "    </tr>\n",
       "    <tr>\n",
       "      <th>max</th>\n",
       "      <td>7000.000000</td>\n",
       "      <td>21.000000</td>\n",
       "      <td>150.000000</td>\n",
       "      <td>150.000000</td>\n",
       "      <td>149.000000</td>\n",
       "    </tr>\n",
       "  </tbody>\n",
       "</table>\n",
       "</div>"
      ],
      "text/plain": [
       "        Student ID          Age   Math Score  Reading Score  Writing Score\n",
       "count  7000.000000  7000.000000  6642.000000    6655.000000    6663.000000\n",
       "mean   3500.500000    19.006286    80.463264      80.598648      80.293862\n",
       "std    2020.870275     1.411874    13.153499      12.973563      12.746946\n",
       "min       1.000000    17.000000    60.000000      60.000000      60.000000\n",
       "25%    1750.750000    18.000000    70.000000      70.000000      70.000000\n",
       "50%    3500.500000    19.000000    80.000000      80.000000      80.000000\n",
       "75%    5250.250000    20.000000    91.000000      91.000000      90.000000\n",
       "max    7000.000000    21.000000   150.000000     150.000000     149.000000"
      ]
     },
     "execution_count": 8,
     "metadata": {},
     "output_type": "execute_result"
    }
   ],
   "source": [
    "df.describe()"
   ]
  },
  {
   "cell_type": "code",
   "execution_count": 9,
   "id": "efd6a646-7f9d-4253-9760-bd2b5fd5bf2c",
   "metadata": {},
   "outputs": [
    {
     "name": "stdout",
     "output_type": "stream",
     "text": [
      "DataFrame before filling missing values:\n",
      "      Student ID  Gender  Age School  Math Score  Reading Score  \\\n",
      "0              1    Male   18      C        99.0           94.0   \n",
      "1              2    Male   17      D        78.0           61.0   \n",
      "2              3  Female   21      B        67.0           95.0   \n",
      "3              4  Female   20      E        67.0           67.0   \n",
      "4              5  Female   20      B        66.0           81.0   \n",
      "...          ...     ...  ...    ...         ...            ...   \n",
      "6995        6996  Female   17      C        69.0           72.0   \n",
      "6996        6997  Female   21      E        70.0           79.0   \n",
      "6997        6998    Male   21      C        80.0           79.0   \n",
      "6998        6999    Male   20      A        74.0           80.0   \n",
      "6999        7000    Male   18      D        60.0          100.0   \n",
      "\n",
      "      Writing Score Class Performance  \n",
      "0              98.0                 C  \n",
      "1              98.0                 B  \n",
      "2              78.0                 A  \n",
      "3              86.0                 C  \n",
      "4              74.0                 B  \n",
      "...             ...               ...  \n",
      "6995           80.0                 C  \n",
      "6996          100.0                 C  \n",
      "6997           78.0                 B  \n",
      "6998           68.0                 A  \n",
      "6999           81.0                 A  \n",
      "\n",
      "[7000 rows x 8 columns]\n"
     ]
    }
   ],
   "source": [
    "print(\"DataFrame before filling missing values:\")\n",
    "print(df)"
   ]
  },
  {
   "cell_type": "code",
   "execution_count": 10,
   "id": "c36da31c-9818-43dd-87b3-51249fa59fea",
   "metadata": {},
   "outputs": [],
   "source": [
    "df['Math Score'] = df['Math Score'].fillna(df['Math Score'].mean())"
   ]
  },
  {
   "cell_type": "code",
   "execution_count": 11,
   "id": "77f0a3c9-4965-4395-89c9-0cd75d546229",
   "metadata": {},
   "outputs": [
    {
     "name": "stdout",
     "output_type": "stream",
     "text": [
      "DataFrame before filling missing values:\n",
      "      Student ID  Gender  Age School  Math Score  Reading Score  \\\n",
      "0              1    Male   18      C        99.0           94.0   \n",
      "1              2    Male   17      D        78.0           61.0   \n",
      "2              3  Female   21      B        67.0           95.0   \n",
      "3              4  Female   20      E        67.0           67.0   \n",
      "4              5  Female   20      B        66.0           81.0   \n",
      "...          ...     ...  ...    ...         ...            ...   \n",
      "6995        6996  Female   17      C        69.0           72.0   \n",
      "6996        6997  Female   21      E        70.0           79.0   \n",
      "6997        6998    Male   21      C        80.0           79.0   \n",
      "6998        6999    Male   20      A        74.0           80.0   \n",
      "6999        7000    Male   18      D        60.0          100.0   \n",
      "\n",
      "      Writing Score Class Performance  \n",
      "0              98.0                 C  \n",
      "1              98.0                 B  \n",
      "2              78.0                 A  \n",
      "3              86.0                 C  \n",
      "4              74.0                 B  \n",
      "...             ...               ...  \n",
      "6995           80.0                 C  \n",
      "6996          100.0                 C  \n",
      "6997           78.0                 B  \n",
      "6998           68.0                 A  \n",
      "6999           81.0                 A  \n",
      "\n",
      "[7000 rows x 8 columns]\n"
     ]
    }
   ],
   "source": [
    "print(\"DataFrame before filling missing values:\")\n",
    "print(df)"
   ]
  },
  {
   "cell_type": "code",
   "execution_count": 12,
   "id": "39238371-88db-4878-b96d-acc27e9f1867",
   "metadata": {},
   "outputs": [
    {
     "data": {
      "text/plain": [
       "Student ID             0\n",
       "Gender                 0\n",
       "Age                    0\n",
       "School                 0\n",
       "Math Score             0\n",
       "Reading Score        345\n",
       "Writing Score        337\n",
       "Class Performance      0\n",
       "dtype: int64"
      ]
     },
     "execution_count": 12,
     "metadata": {},
     "output_type": "execute_result"
    }
   ],
   "source": [
    "df.isnull().sum()"
   ]
  },
  {
   "cell_type": "code",
   "execution_count": 13,
   "id": "99ea418c-36cc-4515-8f56-2ee6ea3a2a2e",
   "metadata": {},
   "outputs": [],
   "source": [
    "df['Math Score']=df['Math Score'].fillna(df['Math Score'].median())"
   ]
  },
  {
   "cell_type": "code",
   "execution_count": 14,
   "id": "1e18a553-fd25-45fd-bafa-02974993158f",
   "metadata": {},
   "outputs": [
    {
     "data": {
      "text/plain": [
       "Student ID             0\n",
       "Gender                 0\n",
       "Age                    0\n",
       "School                 0\n",
       "Math Score             0\n",
       "Reading Score        345\n",
       "Writing Score        337\n",
       "Class Performance      0\n",
       "dtype: int64"
      ]
     },
     "execution_count": 14,
     "metadata": {},
     "output_type": "execute_result"
    }
   ],
   "source": [
    "df.isnull().sum()"
   ]
  },
  {
   "cell_type": "code",
   "execution_count": 15,
   "id": "b386da3d-a954-4d65-9819-34002fd26d50",
   "metadata": {},
   "outputs": [
    {
     "data": {
      "text/plain": [
       "Student ID             int64\n",
       "Gender                object\n",
       "Age                    int64\n",
       "School                object\n",
       "Math Score           float64\n",
       "Reading Score        float64\n",
       "Writing Score        float64\n",
       "Class Performance     object\n",
       "dtype: object"
      ]
     },
     "execution_count": 15,
     "metadata": {},
     "output_type": "execute_result"
    }
   ],
   "source": [
    "df.dtypes"
   ]
  },
  {
   "cell_type": "code",
   "execution_count": 16,
   "id": "f5b8d26e-a223-46bb-80d6-a26f36876cf1",
   "metadata": {},
   "outputs": [],
   "source": [
    "df['Age']=df['Age'].astype('float')"
   ]
  },
  {
   "cell_type": "code",
   "execution_count": 17,
   "id": "61dc57c3-6b31-4d89-adc4-37820ed22944",
   "metadata": {},
   "outputs": [
    {
     "data": {
      "text/plain": [
       "Student ID             int64\n",
       "Gender                object\n",
       "Age                  float64\n",
       "School                object\n",
       "Math Score           float64\n",
       "Reading Score        float64\n",
       "Writing Score        float64\n",
       "Class Performance     object\n",
       "dtype: object"
      ]
     },
     "execution_count": 17,
     "metadata": {},
     "output_type": "execute_result"
    }
   ],
   "source": [
    "df.dtypes"
   ]
  },
  {
   "cell_type": "code",
   "execution_count": 18,
   "id": "6395d780-b5c8-43d7-873b-87a35c9974bf",
   "metadata": {},
   "outputs": [
    {
     "name": "stdout",
     "output_type": "stream",
     "text": [
      "Mean: 50.049, Standard Deviation: 4.994\n",
      "Outliers: [65.15428556186015, 69.79301352018982, 66.60539378085183, 34.73117809786848, 34.23321274904475, 34.91984007395351, 67.1633171589778, 34.679293219474495, 68.70124451852294, 65.67523670043954, 66.19171598376188, 33.73482882511691, 65.66014864070253, 65.06377284118616, 34.0469182658796, 33.6969245211173, 67.02151137874486, 65.59239795391275, 66.49270261640393, 65.74492012609815, 33.525707966507426, 34.72183379792847, 70.1342452227369, 33.90433947188079, 65.55945915508362, 68.06638503541573, 66.99057828251213, 67.80436660352774, 31.717799503726024]\n"
     ]
    }
   ],
   "source": [
    "from numpy.random import seed, randn\n",
    "from numpy import mean, std\n",
    "\n",
    "# Setting seed for reproducibility\n",
    "seed(1)\n",
    "\n",
    "# Generating random data with mean 50 and standard deviation 5\n",
    "data = 5 * randn(10000) + 50\n",
    "\n",
    "# Calculating mean and standard deviation\n",
    "mean_value = mean(data)\n",
    "std_deviation = std(data)\n",
    "print('Mean: %.3f, Standard Deviation: %.3f' % (mean_value, std_deviation))\n",
    "\n",
    "# Detecting outliers using z-score method\n",
    "lower_bound = mean_value - 3 * std_deviation\n",
    "upper_bound = mean_value + 3 * std_deviation\n",
    "\n",
    "# Finding outliers\n",
    "outliers = [x for x in data if x < lower_bound or x > upper_bound]\n",
    "print(\"Outliers:\", outliers)\n"
   ]
  },
  {
   "cell_type": "code",
   "execution_count": 19,
   "id": "b884e3b5-5112-408b-aeeb-0c310b805b0d",
   "metadata": {},
   "outputs": [
    {
     "data": {
      "text/plain": [
       "[<matplotlib.lines.Line2D at 0x20e51292d80>]"
      ]
     },
     "execution_count": 19,
     "metadata": {},
     "output_type": "execute_result"
    },
    {
     "data": {
      "image/png": "[encoded data removed]",
      "text/plain": [
       "<Figure size 640x480 with 1 Axes>"
      ]
     },
     "metadata": {},
     "output_type": "display_data"
    }
   ],
   "source": [
    "import matplotlib.pyplot as plt\n",
    "plt.plot(data)"
   ]
  },
  {
   "cell_type": "code",
   "execution_count": 20,
   "id": "3579b6c7-aa46-4009-aaeb-dc22a1ed1fb9",
   "metadata": {},
   "outputs": [
    {
     "data": {
      "text/plain": [
       "[<matplotlib.lines.Line2D at 0x20e512db320>]"
      ]
     },
     "execution_count": 20,
     "metadata": {},
     "output_type": "execute_result"
    },
    {
     "data": {
      "image/png": "[encoded data removed]",
      "text/plain": [
       "<Figure size 640x480 with 1 Axes>"
      ]
     },
     "metadata": {},
     "output_type": "display_data"
    }
   ],
   "source": [
    "outliers_removed = [x for x in data if x >=lower_bound or x <=upper_bound]\n",
    "plt.plot(outliers_removed)"
   ]
  },
  {
   "cell_type": "code",
   "execution_count": 25,
   "id": "c49bbfde-ffbc-440e-b07f-6c64b37b40f2",
   "metadata": {},
   "outputs": [
    {
     "data": {
      "image/png": "[encoded data removed]",
      "text/plain": [
       "<Figure size 500x300 with 1 Axes>"
      ]
     },
     "metadata": {},
     "output_type": "display_data"
    }
   ],
   "source": [
    "# Choose a variable and apply a data transformation for a specific reason\n",
    "#let's apply log transformation to a positively skewed numeric variable\n",
    "import seaborn as sns\n",
    "skewed_variable = 'Math Score'\n",
    "plt.figure(figsize=(5, 3))\n",
    "sns.histplot(df[skewed_variable])\n",
    "\n",
    "plt.xlabel(\"Math Score\")\n",
    "\n",
    "plt.show()"
   ]
  },
  {
   "cell_type": "code",
   "execution_count": 26,
   "id": "adb3e847-c462-4cb6-ab06-7fce2df63a48",
   "metadata": {},
   "outputs": [],
   "source": [
    "# Apply log transformation to decrease skewness and convert distribution into a normal distribution\n",
    "import numpy as np\n",
    "df[skewed_variable] = np.log1p(df[skewed_variable])\n",
    "#This code applies a log transformation to the 'Math Score' variable using NumPy's log1p function. \n",
    "#The log1p function calculates the natural logarithm (base e) of each element in the 'Math Score' variable plus 1. \n",
    "#This transformation is often used to stabilize variance and make the distribution of the data more symmetrical."
   ]
  },
  {
   "cell_type": "code",
   "execution_count": 27,
   "id": "3e5851a1-cc74-4635-b42f-a65ff9c5f3f7",
   "metadata": {},
   "outputs": [
    {
     "data": {
      "image/png": "[encoded data removed]",
      "text/plain": [
       "<Figure size 500x300 with 1 Axes>"
      ]
     },
     "metadata": {},
     "output_type": "display_data"
    }
   ],
   "source": [
    "# Visualize the transformed distribution\n",
    "plt.figure(figsize=(5,3))\n",
    "sns.histplot(df[skewed_variable])\n",
    "plt.title(\"Distribution of Math Score after log transformation\")\n",
    "plt.xlabel(\"Transformed Math Score\")\n",
    "\n",
    "plt.show()"
   ]
  },
  {
   "cell_type": "code",
   "execution_count": null,
   "id": "83e5eaa7-1c54-49f0-8ee5-b195095b4fe7",
   "metadata": {},
   "outputs": [],
   "source": []
  }
 ],
 "metadata": {
  "kernelspec": {
   "display_name": "Python 3 (ipykernel)",
   "language": "python",
   "name": "python3"
  },
  "language_info": {
   "codemirror_mode": {
    "name": "ipython",
    "version": 3
   },
   "file_extension": ".py",
   "mimetype": "text/x-python",
   "name": "python",
   "nbconvert_exporter": "python",
   "pygments_lexer": "ipython3",
   "version": "3.12.0"
  }
 },
 "nbformat": 4,
 "nbformat_minor": 5
}
